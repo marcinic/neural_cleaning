{
 "cells": [
  {
   "cell_type": "code",
   "execution_count": 1,
   "metadata": {
    "collapsed": false
   },
   "outputs": [],
   "source": [
    "import pandas as pd\n",
    "import nltk\n",
    "import tensorflow as tf\n",
    "import random"
   ]
  },
  {
   "cell_type": "code",
   "execution_count": null,
   "metadata": {
    "collapsed": false
   },
   "outputs": [],
   "source": []
  },
  {
   "cell_type": "code",
   "execution_count": 2,
   "metadata": {
    "collapsed": false
   },
   "outputs": [],
   "source": [
    "data = pd.read_csv(\"JobID-53_Concordance_H3_to_S3.CSV\",encoding=\"latin-1\",dtype=\"object\")"
   ]
  },
  {
   "cell_type": "code",
   "execution_count": 3,
   "metadata": {
    "collapsed": false
   },
   "outputs": [
    {
     "data": {
      "text/html": [
       "<div>\n",
       "<table border=\"1\" class=\"dataframe\">\n",
       "  <thead>\n",
       "    <tr style=\"text-align: right;\">\n",
       "      <th></th>\n",
       "      <th>HS 2007 Product Code</th>\n",
       "      <th>HS 2007 Product Description</th>\n",
       "      <th>SITC Revision 3 Product Code</th>\n",
       "      <th>SITC Revision 3 Product Description</th>\n",
       "    </tr>\n",
       "  </thead>\n",
       "  <tbody>\n",
       "    <tr>\n",
       "      <th>0</th>\n",
       "      <td>010110</td>\n",
       "      <td>Live horses/asses/mules/hinnies: pure-bred bre...</td>\n",
       "      <td>00151</td>\n",
       "      <td>Horses</td>\n",
       "    </tr>\n",
       "    <tr>\n",
       "      <th>1</th>\n",
       "      <td>010190</td>\n",
       "      <td>Live horses/asses/mules/hinnies other than pur...</td>\n",
       "      <td>00152</td>\n",
       "      <td>Asses/mules/hinnies,live</td>\n",
       "    </tr>\n",
       "    <tr>\n",
       "      <th>2</th>\n",
       "      <td>010210</td>\n",
       "      <td>Live bovine animals: pure-bred breeding animals</td>\n",
       "      <td>00111</td>\n",
       "      <td>Bovine animals, breeding</td>\n",
       "    </tr>\n",
       "    <tr>\n",
       "      <th>3</th>\n",
       "      <td>010290</td>\n",
       "      <td>Live bovine animals other than pure-bred breed...</td>\n",
       "      <td>00119</td>\n",
       "      <td>Bovine animals, other</td>\n",
       "    </tr>\n",
       "    <tr>\n",
       "      <th>4</th>\n",
       "      <td>010310</td>\n",
       "      <td>Live swine: pure-bred breeding animals</td>\n",
       "      <td>00131</td>\n",
       "      <td>Swine, live for breeding</td>\n",
       "    </tr>\n",
       "  </tbody>\n",
       "</table>\n",
       "</div>"
      ],
      "text/plain": [
       "  HS 2007 Product Code                        HS 2007 Product Description  \\\n",
       "0               010110  Live horses/asses/mules/hinnies: pure-bred bre...   \n",
       "1               010190  Live horses/asses/mules/hinnies other than pur...   \n",
       "2               010210    Live bovine animals: pure-bred breeding animals   \n",
       "3               010290  Live bovine animals other than pure-bred breed...   \n",
       "4               010310             Live swine: pure-bred breeding animals   \n",
       "\n",
       "  SITC Revision 3 Product Code SITC Revision 3 Product Description  \n",
       "0                        00151                              Horses  \n",
       "1                        00152            Asses/mules/hinnies,live  \n",
       "2                        00111            Bovine animals, breeding  \n",
       "3                        00119               Bovine animals, other  \n",
       "4                        00131            Swine, live for breeding  "
      ]
     },
     "execution_count": 3,
     "metadata": {},
     "output_type": "execute_result"
    }
   ],
   "source": [
    "data.head()"
   ]
  },
  {
   "cell_type": "code",
   "execution_count": 4,
   "metadata": {
    "collapsed": false
   },
   "outputs": [],
   "source": [
    "instance = data[data.columns[0]][0]"
   ]
  },
  {
   "cell_type": "code",
   "execution_count": 5,
   "metadata": {
    "collapsed": false
   },
   "outputs": [
    {
     "data": {
      "text/plain": [
       "[u'0', u'1', u'0', u'1', u'1', u'0']"
      ]
     },
     "execution_count": 5,
     "metadata": {},
     "output_type": "execute_result"
    }
   ],
   "source": [
    "[i for i in instance]"
   ]
  },
  {
   "cell_type": "code",
   "execution_count": 6,
   "metadata": {
    "collapsed": false
   },
   "outputs": [],
   "source": [
    "product_codes = data[data.columns[0]]\n",
    "characters = []\n",
    "for code in product_codes:\n",
    "    characters.append([c for c in code])\n"
   ]
  },
  {
   "cell_type": "code",
   "execution_count": 7,
   "metadata": {
    "collapsed": false
   },
   "outputs": [
    {
     "data": {
      "text/plain": [
       "5050"
      ]
     },
     "execution_count": 7,
     "metadata": {},
     "output_type": "execute_result"
    }
   ],
   "source": [
    "len(characters)"
   ]
  },
  {
   "cell_type": "markdown",
   "metadata": {
    "collapsed": true
   },
   "source": [
    "Prepare strings\n",
    "-----"
   ]
  },
  {
   "cell_type": "code",
   "execution_count": 8,
   "metadata": {
    "collapsed": false
   },
   "outputs": [],
   "source": [
    "descriptions = data['HS 2007 Product Description'].str.replace(\"/\",\" \")"
   ]
  },
  {
   "cell_type": "code",
   "execution_count": 9,
   "metadata": {
    "collapsed": false
   },
   "outputs": [],
   "source": [
    "tokens = [nltk.word_tokenize(desc) for desc in descriptions]"
   ]
  },
  {
   "cell_type": "code",
   "execution_count": 10,
   "metadata": {
    "collapsed": false
   },
   "outputs": [],
   "source": [
    "def build_vocabulary(token_list):\n",
    "    vocabulary = {}\n",
    "    start_vocab = [\"_PAD\",\"_GO\",\"_EOS\",\"_UNK\"]\n",
    "    for row in token_list:\n",
    "        for word in row:\n",
    "            if word in vocabulary:\n",
    "                vocabulary[word] += 1\n",
    "            else:\n",
    "                vocabulary[word] = 1\n",
    "    vocab = start_vocab + sorted(vocabulary,key=vocabulary.get,reverse=True)\n",
    "    return vocab   "
   ]
  },
  {
   "cell_type": "code",
   "execution_count": 11,
   "metadata": {
    "collapsed": false
   },
   "outputs": [],
   "source": [
    "vocab = build_vocabulary(tokens)"
   ]
  },
  {
   "cell_type": "code",
   "execution_count": 12,
   "metadata": {
    "collapsed": true
   },
   "outputs": [],
   "source": [
    "dec_vocab = build_vocabulary(characters)"
   ]
  },
  {
   "cell_type": "code",
   "execution_count": 13,
   "metadata": {
    "collapsed": false
   },
   "outputs": [
    {
     "data": {
      "text/plain": [
       "['_PAD',\n",
       " '_GO',\n",
       " '_EOS',\n",
       " '_UNK',\n",
       " u',',\n",
       " u'of',\n",
       " u'.',\n",
       " u'&',\n",
       " u'(',\n",
       " u')',\n",
       " u'other',\n",
       " u'not',\n",
       " u'excl',\n",
       " u'for',\n",
       " u'in',\n",
       " u'than',\n",
       " u'a',\n",
       " u'the',\n",
       " u'with',\n",
       " u'whether']"
      ]
     },
     "execution_count": 13,
     "metadata": {},
     "output_type": "execute_result"
    }
   ],
   "source": [
    "vocab[0:20]"
   ]
  },
  {
   "cell_type": "code",
   "execution_count": 14,
   "metadata": {
    "collapsed": false
   },
   "outputs": [
    {
     "data": {
      "text/plain": [
       "['_PAD',\n",
       " '_GO',\n",
       " '_EOS',\n",
       " '_UNK',\n",
       " u'0',\n",
       " u'1',\n",
       " u'2',\n",
       " u'9',\n",
       " u'3',\n",
       " u'4',\n",
       " u'8',\n",
       " u'5',\n",
       " u'6',\n",
       " u'7']"
      ]
     },
     "execution_count": 14,
     "metadata": {},
     "output_type": "execute_result"
    }
   ],
   "source": [
    "dec_vocab"
   ]
  },
  {
   "cell_type": "code",
   "execution_count": 15,
   "metadata": {
    "collapsed": false
   },
   "outputs": [],
   "source": [
    "targets = characters\n",
    "a = [ch.insert(0,\"_GO\") for ch in characters]\n",
    "b = [ch.append(\"_EOS\") for ch in characters]"
   ]
  },
  {
   "cell_type": "code",
   "execution_count": 16,
   "metadata": {
    "collapsed": false
   },
   "outputs": [],
   "source": [
    "d = [token.append(\"_EOS\") for token in tokens]"
   ]
  },
  {
   "cell_type": "code",
   "execution_count": 17,
   "metadata": {
    "collapsed": false
   },
   "outputs": [
    {
     "data": {
      "text/plain": [
       "5050"
      ]
     },
     "execution_count": 17,
     "metadata": {},
     "output_type": "execute_result"
    }
   ],
   "source": [
    "len(characters)"
   ]
  },
  {
   "cell_type": "code",
   "execution_count": 18,
   "metadata": {
    "collapsed": true
   },
   "outputs": [],
   "source": [
    "# Add padding to the description sequences\n",
    "# Only padding input because HS codes are already fixed length\n",
    "buckets = [(5,8),(10,8),(20,8),(30,8),(40,8),(50,8),(60,8),(70,8)]"
   ]
  },
  {
   "cell_type": "code",
   "execution_count": 19,
   "metadata": {
    "collapsed": false
   },
   "outputs": [
    {
     "data": {
      "text/plain": [
       "17.227326732673266"
      ]
     },
     "execution_count": 19,
     "metadata": {},
     "output_type": "execute_result"
    }
   ],
   "source": [
    "import numpy as np\n",
    "lengths = [len(token) for token in tokens]\n",
    "np.mean(lengths)"
   ]
  },
  {
   "cell_type": "code",
   "execution_count": 20,
   "metadata": {
    "collapsed": false
   },
   "outputs": [],
   "source": [
    "def make_buckets(tokens, buckets):\n",
    "    lengths = [len(token) for token in tokens]\n",
    "    padding = []\n",
    "    i = 0\n",
    "    for length in lengths:\n",
    "        for bucket in buckets:\n",
    "            if length <= bucket[0]:\n",
    "                padding.append((bucket[0]-length))\n",
    "                pad(tokens[i],bucket[0]-length)\n",
    "                break\n",
    "        i = i+1\n",
    "    return padding\n",
    "\n",
    "def pad(sentence,padding_size):\n",
    "    for i in range(0,padding_size):\n",
    "        sentence.insert(0,\"_PAD\")\n",
    "\n",
    "padding = make_buckets(tokens,buckets)"
   ]
  },
  {
   "cell_type": "code",
   "execution_count": 31,
   "metadata": {
    "collapsed": false
   },
   "outputs": [
    {
     "data": {
      "text/plain": [
       "[[u'Live',\n",
       "  u'horses',\n",
       "  u'asses',\n",
       "  u'mules',\n",
       "  u'hinnies',\n",
       "  u':',\n",
       "  u'pure-bred',\n",
       "  u'breeding',\n",
       "  u'animals',\n",
       "  '_EOS'],\n",
       " ['_PAD',\n",
       "  '_PAD',\n",
       "  '_PAD',\n",
       "  '_PAD',\n",
       "  '_PAD',\n",
       "  '_PAD',\n",
       "  '_PAD',\n",
       "  '_PAD',\n",
       "  '_PAD',\n",
       "  u'Live',\n",
       "  u'horses',\n",
       "  u'asses',\n",
       "  u'mules',\n",
       "  u'hinnies',\n",
       "  u'other',\n",
       "  u'than',\n",
       "  u'pure-bred',\n",
       "  u'breeding',\n",
       "  u'animals',\n",
       "  '_EOS'],\n",
       " ['_PAD',\n",
       "  '_PAD',\n",
       "  u'Live',\n",
       "  u'bovine',\n",
       "  u'animals',\n",
       "  u':',\n",
       "  u'pure-bred',\n",
       "  u'breeding',\n",
       "  u'animals',\n",
       "  '_EOS'],\n",
       " ['_PAD',\n",
       "  u'Live',\n",
       "  u'bovine',\n",
       "  u'animals',\n",
       "  u'other',\n",
       "  u'than',\n",
       "  u'pure-bred',\n",
       "  u'breeding',\n",
       "  u'animals',\n",
       "  '_EOS'],\n",
       " ['_PAD',\n",
       "  '_PAD',\n",
       "  '_PAD',\n",
       "  u'Live',\n",
       "  u'swine',\n",
       "  u':',\n",
       "  u'pure-bred',\n",
       "  u'breeding',\n",
       "  u'animals',\n",
       "  '_EOS'],\n",
       " ['_PAD',\n",
       "  '_PAD',\n",
       "  '_PAD',\n",
       "  '_PAD',\n",
       "  '_PAD',\n",
       "  '_PAD',\n",
       "  '_PAD',\n",
       "  '_PAD',\n",
       "  u'Live',\n",
       "  u'swine',\n",
       "  u'other',\n",
       "  u'than',\n",
       "  u'pure-bred',\n",
       "  u'breeding',\n",
       "  u'animals',\n",
       "  u',',\n",
       "  u'weighing',\n",
       "  u'<',\n",
       "  u'50kg',\n",
       "  '_EOS'],\n",
       " ['_PAD',\n",
       "  '_PAD',\n",
       "  '_PAD',\n",
       "  '_PAD',\n",
       "  '_PAD',\n",
       "  '_PAD',\n",
       "  '_PAD',\n",
       "  '_PAD',\n",
       "  u'Live',\n",
       "  u'swine',\n",
       "  u'other',\n",
       "  u'than',\n",
       "  u'pure-bred',\n",
       "  u'breeding',\n",
       "  u'animals',\n",
       "  u',',\n",
       "  u'weighing',\n",
       "  u'50kg',\n",
       "  u'more',\n",
       "  '_EOS'],\n",
       " ['_PAD', '_PAD', u'Live', u'sheep', '_EOS'],\n",
       " ['_PAD', '_PAD', u'Live', u'goats', '_EOS'],\n",
       " ['_PAD',\n",
       "  '_PAD',\n",
       "  '_PAD',\n",
       "  '_PAD',\n",
       "  '_PAD',\n",
       "  '_PAD',\n",
       "  '_PAD',\n",
       "  '_PAD',\n",
       "  u'Live',\n",
       "  u'fowls',\n",
       "  u'of',\n",
       "  u'species',\n",
       "  u'Gallus',\n",
       "  u'domesticus',\n",
       "  u',',\n",
       "  u'weighing',\n",
       "  u'not',\n",
       "  u'>',\n",
       "  u'185g',\n",
       "  '_EOS'],\n",
       " ['_PAD',\n",
       "  '_PAD',\n",
       "  u'Live',\n",
       "  u'turkeys',\n",
       "  u',',\n",
       "  u'weighing',\n",
       "  u'not',\n",
       "  u'>',\n",
       "  u'185g',\n",
       "  '_EOS'],\n",
       " ['_PAD',\n",
       "  '_PAD',\n",
       "  '_PAD',\n",
       "  '_PAD',\n",
       "  '_PAD',\n",
       "  '_PAD',\n",
       "  '_PAD',\n",
       "  '_PAD',\n",
       "  '_PAD',\n",
       "  u'Live',\n",
       "  u'ducks',\n",
       "  u'geese',\n",
       "  u'guinea',\n",
       "  u'fowls',\n",
       "  u',',\n",
       "  u'weighing',\n",
       "  u'not',\n",
       "  u'>',\n",
       "  u'185g',\n",
       "  '_EOS'],\n",
       " ['_PAD',\n",
       "  '_PAD',\n",
       "  '_PAD',\n",
       "  '_PAD',\n",
       "  '_PAD',\n",
       "  '_PAD',\n",
       "  '_PAD',\n",
       "  '_PAD',\n",
       "  '_PAD',\n",
       "  u'Live',\n",
       "  u'fowls',\n",
       "  u'of',\n",
       "  u'species',\n",
       "  u'Gallus',\n",
       "  u'domesticus',\n",
       "  u',',\n",
       "  u'weighing',\n",
       "  u'>',\n",
       "  u'185g',\n",
       "  '_EOS'],\n",
       " ['_PAD',\n",
       "  '_PAD',\n",
       "  '_PAD',\n",
       "  '_PAD',\n",
       "  '_PAD',\n",
       "  '_PAD',\n",
       "  '_PAD',\n",
       "  '_PAD',\n",
       "  '_PAD',\n",
       "  u'Live',\n",
       "  u'ducks',\n",
       "  u'geese',\n",
       "  u'turkeys',\n",
       "  u'guinea',\n",
       "  u'fowls',\n",
       "  u',',\n",
       "  u'weighing',\n",
       "  u'>',\n",
       "  u'185g',\n",
       "  '_EOS'],\n",
       " ['_PAD', '_PAD', u'Live', u'primates', '_EOS'],\n",
       " ['_PAD',\n",
       "  '_PAD',\n",
       "  '_PAD',\n",
       "  u'Live',\n",
       "  u'whales',\n",
       "  u'dolphins',\n",
       "  u'&',\n",
       "  u'porpoises',\n",
       "  u'(',\n",
       "  u'order',\n",
       "  u'Cetacea',\n",
       "  u')',\n",
       "  u'manatees',\n",
       "  u'&',\n",
       "  u'dugongs',\n",
       "  u'(',\n",
       "  u'order',\n",
       "  u'Sirenia',\n",
       "  u')',\n",
       "  '_EOS'],\n",
       " ['_PAD',\n",
       "  '_PAD',\n",
       "  '_PAD',\n",
       "  '_PAD',\n",
       "  u'Live',\n",
       "  u'mammals',\n",
       "  u',',\n",
       "  u'n.e.s',\n",
       "  u'.',\n",
       "  '_EOS'],\n",
       " ['_PAD',\n",
       "  u'Live',\n",
       "  u'reptiles',\n",
       "  u',',\n",
       "  u'incl',\n",
       "  u'.',\n",
       "  u'snakes',\n",
       "  u'&',\n",
       "  u'turtles',\n",
       "  '_EOS'],\n",
       " [u'Live', u'birds', u'of', u'prey', '_EOS'],\n",
       " ['_PAD',\n",
       "  '_PAD',\n",
       "  '_PAD',\n",
       "  '_PAD',\n",
       "  '_PAD',\n",
       "  '_PAD',\n",
       "  u'Live',\n",
       "  u'birds',\n",
       "  u'(',\n",
       "  u'order',\n",
       "  u'Psittaciformes',\n",
       "  u')',\n",
       "  u',',\n",
       "  u'incl',\n",
       "  u'.',\n",
       "  u'parrots',\n",
       "  u'parakeets',\n",
       "  u'macaws',\n",
       "  u'cockatoos',\n",
       "  '_EOS']]"
      ]
     },
     "execution_count": 31,
     "metadata": {},
     "output_type": "execute_result"
    }
   ],
   "source": [
    "tokens[0:20]"
   ]
  },
  {
   "cell_type": "code",
   "execution_count": 22,
   "metadata": {
    "collapsed": false
   },
   "outputs": [
    {
     "data": {
      "text/plain": [
       "<function tensorflow.python.ops.seq2seq.basic_rnn_seq2seq>"
      ]
     },
     "execution_count": 22,
     "metadata": {},
     "output_type": "execute_result"
    }
   ],
   "source": [
    "tf.nn.seq2seq.basic_rnn_seq2seq"
   ]
  },
  {
   "cell_type": "code",
   "execution_count": 23,
   "metadata": {
    "collapsed": false
   },
   "outputs": [
    {
     "data": {
      "text/plain": [
       "<function tensorflow.python.ops.seq2seq.model_with_buckets>"
      ]
     },
     "execution_count": 23,
     "metadata": {},
     "output_type": "execute_result"
    }
   ],
   "source": [
    "tf.nn.seq2seq.model_with_buckets"
   ]
  },
  {
   "cell_type": "code",
   "execution_count": 24,
   "metadata": {
    "collapsed": false
   },
   "outputs": [],
   "source": [
    "word_id = dict(zip(vocab,[i for i in range(0,len(vocab))]))\n",
    "code_id = dict(zip(dec_vocab,[i for i in range(0,len(dec_vocab))]))"
   ]
  },
  {
   "cell_type": "markdown",
   "metadata": {},
   "source": [
    "Prepare Input Vectors for Model\n",
    "---------"
   ]
  },
  {
   "cell_type": "code",
   "execution_count": 25,
   "metadata": {
    "collapsed": false
   },
   "outputs": [],
   "source": [
    "def make_inputs(instances,vocabulary):\n",
    "    inputs = []\n",
    "    for row in instances:\n",
    "        inputs.append([vocabulary[token] for token in row])\n",
    "    return inputs\n",
    "\n",
    "encoder_inputs = make_inputs(tokens,word_id)\n",
    "decoder_inputs = make_inputs(characters,code_id)"
   ]
  },
  {
   "cell_type": "code",
   "execution_count": 26,
   "metadata": {
    "collapsed": false
   },
   "outputs": [],
   "source": [
    "cell = tf.nn.rnn_cell.BasicRNNCell(15)\n",
    "#tf.nn.seq2seq.basic_rnn_seq2seq(encoder_inputs,decoder_inputs,cell)\n",
    "#tf.nn.seq2seq.model_with_buckets(encoder_inputs,decoder_inputs, targets)"
   ]
  },
  {
   "cell_type": "markdown",
   "metadata": {
    "collapsed": false
   },
   "source": [
    " It appears that targets increment on every step\n",
    "targets = []\n",
    "for decoder in decoder_inputs:\n",
    "    targets.append([decoder[i+1] for i in range(len(decoder)-1)])"
   ]
  },
  {
   "cell_type": "markdown",
   "metadata": {},
   "source": [
    "Make batches by bucket size. We need to group the data by its bucket size."
   ]
  },
  {
   "cell_type": "code",
   "execution_count": 27,
   "metadata": {
    "collapsed": false
   },
   "outputs": [],
   "source": [
    "data = zip(encoder_inputs,decoder_inputs)"
   ]
  },
  {
   "cell_type": "code",
   "execution_count": 28,
   "metadata": {
    "collapsed": false
   },
   "outputs": [
    {
     "data": {
      "text/plain": [
       "8"
      ]
     },
     "execution_count": 28,
     "metadata": {},
     "output_type": "execute_result"
    }
   ],
   "source": [
    "len(buckets)"
   ]
  },
  {
   "cell_type": "code",
   "execution_count": 29,
   "metadata": {
    "collapsed": false
   },
   "outputs": [],
   "source": [
    "from six.moves import xrange\n",
    "\n",
    "\n",
    "def batch(data,bucket_id,batch_size):\n",
    "    batch = random.sample(data[bucket_id],batch_size)\n",
    "    return batch\n",
    "    \n",
    "    \n",
    "def get_batch(encoder_inputs,decoder_inputs,buckets,bucket_id,batch_size):\n",
    "    \n",
    "    encoder_size, decoder_size = buckets[bucket_id]\n",
    "    \n",
    "    batch_encoder_inputs, batch_decoder_inputs, batch_weights = [], [], []\n",
    "    for length_idx in xrange(encoder_size):\n",
    "        batch_encoder_inputs.append(\n",
    "            np.array([encoder_inputs[batch_idx][length_idx]\n",
    "                    for batch_idx in xrange(batch_size)], dtype=np.int32))\n",
    "    \n",
    "    # Batch decoder inputs are re-indexed decoder_inputs, we create weights.\n",
    "    for length_idx in xrange(decoder_size):\n",
    "        batch_decoder_inputs.append(\n",
    "            np.array([decoder_inputs[batch_idx][length_idx]\n",
    "                    for batch_idx in xrange(batch_size)], dtype=np.int32))\n",
    "    \n",
    "    # Create target_weights to be 0 for targets that are padding.\n",
    "    batch_weight = np.ones(batch_size, dtype=np.float32)\n",
    "    for batch_idx in xrange(batch_size):\n",
    "        # We set weight to 0 if the corresponding target is a PAD symbol.\n",
    "        # The corresponding target is decoder_input shifted by 1 forward.\n",
    "        if length_idx < decoder_size - 1:\n",
    "            target = decoder_inputs[batch_idx][length_idx + 1]\n",
    "        if length_idx == decoder_size - 1 or target == 0:\n",
    "            batch_weight[batch_idx] = 0.0\n",
    "    batch_weights.append(batch_weight)   \n",
    "    return batch_encoder_inputs, batch_decoder_inputs, batch_weights\n"
   ]
  },
  {
   "cell_type": "code",
   "execution_count": null,
   "metadata": {
    "collapsed": false
   },
   "outputs": [],
   "source": []
  },
  {
   "cell_type": "code",
   "execution_count": 36,
   "metadata": {
    "collapsed": false
   },
   "outputs": [],
   "source": [
    "from itertools import groupby\n",
    "\n",
    "def bucket_data(encoder_inputs,decoder_inputs):\n",
    "    \"\"\" Groups data by bucket size that can be sampled for batch learning\"\"\"\n",
    "    data = zip(encoder_inputs,decoder_inputs)\n",
    "    keyfunc = lambda x : len(x[0])\n",
    "    sorted_data = sorted(data,key=keyfunc)\n",
    "    bucketed_data = []\n",
    "    for k,g in groupby(sorted_data,keyfunc):\n",
    "        bucketed_data.append(list(g))\n",
    "    return bucketed_data"
   ]
  },
  {
   "cell_type": "code",
   "execution_count": null,
   "metadata": {
    "collapsed": false
   },
   "outputs": [],
   "source": [
    "decoder_inputs[0:11]"
   ]
  },
  {
   "cell_type": "code",
   "execution_count": 37,
   "metadata": {
    "collapsed": false
   },
   "outputs": [
    {
     "data": {
      "text/plain": [
       "[([4371, 1148, 7, 1115, 1148, 4, 19, 11, 350, 2], [1, 6, 11, 4, 11, 5, 4, 2]),\n",
       " ([0, 0, 6007, 8, 12, 6, 5, 6485, 9, 2], [1, 6, 7, 4, 6, 7, 4, 2]),\n",
       " ([0, 802, 233, 846, 4, 30, 6, 14, 3354, 2], [1, 10, 11, 8, 6, 6, 7, 2]),\n",
       " ([0, 0, 0, 2339, 1063, 807, 24, 141, 687, 2], [1, 10, 12, 4, 5, 6, 4, 2]),\n",
       " ([0, 0, 0, 0, 8204, 470, 5, 41, 29, 2], [1, 13, 8, 5, 11, 6, 4, 2]),\n",
       " ([0, 0, 0, 3743, 1608, 5, 121, 4, 1808, 2], [1, 7, 4, 4, 5, 9, 4, 2]),\n",
       " ([0, 0, 1046, 853, 5, 712, 4, 56, 94, 2], [1, 4, 6, 4, 9, 5, 4, 2]),\n",
       " ([0, 7523, 619, 8, 12, 6, 5, 2580, 9, 2], [1, 10, 9, 5, 8, 13, 4, 2]),\n",
       " ([0, 0, 0, 0, 1881, 8, 1426, 9, 213, 2], [1, 10, 5, 4, 5, 7, 12, 2]),\n",
       " ([0, 313, 95, 2480, 5, 415, 532, 4, 132, 2], [1, 9, 10, 6, 5, 5, 4, 2]),\n",
       " ([0, 6812, 5, 247, 54, 10, 15, 175, 54, 2], [1, 9, 4, 5, 12, 7, 6, 2]),\n",
       " ([0, 8004, 7, 2783, 4, 7, 3591, 2931, 47, 2], [1, 9, 7, 4, 5, 7, 5, 2]),\n",
       " ([0, 0, 0, 1049, 272, 7, 211, 4, 548, 2], [1, 6, 12, 5, 8, 5, 4, 2]),\n",
       " ([0, 0, 0, 5170, 7, 7974, 8, 4053, 9, 2], [1, 7, 4, 5, 11, 6, 4, 2]),\n",
       " ([0, 0, 4743, 2242, 68, 5, 37, 149, 123, 2], [1, 7, 12, 4, 8, 11, 4, 2]),\n",
       " ([0, 0, 55, 5, 17, 2909, 37, 5, 7503, 2], [1, 10, 9, 5, 11, 7, 4, 2]),\n",
       " ([55, 7, 115, 5, 17, 37, 5, 178, 1121, 2], [1, 10, 9, 13, 8, 8, 4, 2]),\n",
       " ([2992, 479, 667, 4986, 4, 19, 11, 185, 546, 2], [1, 10, 9, 5, 7, 6, 4, 2]),\n",
       " ([342, 7, 81, 23, 7552, 8, 517, 544, 9, 2], [1, 8, 10, 6, 9, 10, 5, 2]),\n",
       " ([7656, 10, 15, 750, 1534, 4, 5, 41, 29, 2], [1, 13, 8, 5, 7, 8, 4, 2]),\n",
       " ([3284, 59, 4, 19, 11, 60, 46, 14, 404, 2], [1, 9, 10, 5, 12, 6, 4, 2]),\n",
       " ([0, 0, 55, 7, 115, 5, 1785, 301, 106, 2], [1, 10, 9, 9, 10, 8, 5, 2]),\n",
       " ([0, 1914, 3486, 8, 194, 2434, 9, 4, 2027, 2], [1, 6, 10, 9, 4, 5, 5, 2]),\n",
       " ([0, 0, 0, 0, 5988, 7971, 7, 879, 5853, 2], [1, 7, 11, 4, 10, 5, 4, 2]),\n",
       " ([0, 0, 7258, 7, 3225, 2994, 4, 56, 94, 2], [1, 4, 13, 4, 9, 5, 4, 2]),\n",
       " ([0, 0, 0, 1584, 3459, 2870, 156, 4, 267, 2], [1, 5, 11, 5, 8, 6, 5, 2]),\n",
       " ([1403, 2279, 449, 62, 16, 2904, 4034, 13, 7441, 2],\n",
       "  [1, 10, 9, 5, 9, 9, 4, 2]),\n",
       " ([0, 0, 7535, 107, 4, 117, 76, 7, 260, 2], [1, 6, 7, 5, 13, 5, 6, 2]),\n",
       " ([1606, 5, 88, 8, 12, 6, 5, 1572, 9, 2], [1, 7, 9, 4, 8, 13, 4, 2]),\n",
       " ([0, 0, 0, 6166, 37, 13, 59, 244, 95, 2], [1, 10, 9, 9, 5, 5, 4, 2]),\n",
       " ([2152, 4, 5, 1454, 4, 19, 11, 191, 397, 2], [1, 6, 10, 9, 7, 6, 4, 2]),\n",
       " ([0, 0, 0, 0, 7497, 1371, 4, 56, 94, 2], [1, 4, 13, 4, 5, 5, 4, 2]),\n",
       " ([5407, 149, 21, 6417, 70, 21, 4039, 5965, 70, 2], [1, 7, 4, 5, 7, 5, 4, 2]),\n",
       " ([0, 273, 326, 5, 108, 349, 11, 20, 6679, 2], [1, 10, 11, 4, 5, 5, 4, 2]),\n",
       " ([0, 7985, 7, 3678, 332, 4, 5, 41, 29, 2], [1, 13, 8, 6, 4, 5, 4, 2]),\n",
       " ([0, 0, 0, 6389, 380, 4, 14, 96, 72, 2], [1, 8, 7, 4, 7, 9, 4, 2]),\n",
       " ([0, 0, 0, 0, 6554, 2392, 5, 41, 29, 2], [1, 13, 8, 6, 4, 6, 4, 2]),\n",
       " ([0, 0, 0, 0, 6751, 1495, 13, 157, 43, 2], [1, 10, 9, 11, 13, 5, 4, 2]),\n",
       " ([0, 0, 0, 55, 5, 17, 106, 5, 4913, 2], [1, 10, 9, 11, 8, 7, 4, 2]),\n",
       " ([0, 0, 0, 4381, 1610, 4, 14, 113, 57, 2], [1, 9, 10, 4, 12, 6, 4, 2]),\n",
       " ([0, 0, 262, 13, 2866, 325, 282, 18, 1169, 2], [1, 10, 9, 13, 9, 8, 6, 2]),\n",
       " ([0, 0, 3520, 4, 19, 11, 14, 780, 1329, 2], [1, 8, 5, 4, 6, 5, 4, 2]),\n",
       " ([2410, 7, 40, 47, 4, 30, 6, 14, 2239, 2], [1, 10, 5, 5, 6, 5, 7, 2]),\n",
       " ([739, 163, 4, 6878, 4, 6140, 7, 357, 188, 2], [1, 12, 7, 4, 12, 4, 4, 2]),\n",
       " ([0, 0, 0, 963, 1698, 279, 18, 3840, 3618, 2], [1, 10, 11, 5, 13, 5, 5, 2]),\n",
       " ([0, 8178, 8, 25, 6, 989, 4435, 9, 119, 2], [1, 9, 5, 5, 9, 5, 4, 2]),\n",
       " ([0, 0, 0, 3333, 8, 3942, 9, 4, 2977, 2], [1, 9, 7, 4, 10, 5, 4, 2]),\n",
       " ([0, 1491, 7, 81, 215, 62, 1272, 303, 6, 2], [1, 8, 6, 4, 12, 6, 4, 2]),\n",
       " ([0, 0, 7557, 8, 101, 9, 7, 117, 76, 2], [1, 6, 7, 6, 6, 5, 9, 2]),\n",
       " ([0, 0, 0, 0, 249, 13, 369, 59, 95, 2], [1, 10, 9, 8, 7, 6, 4, 2]),\n",
       " ([0, 1530, 1547, 7, 68, 47, 4, 5, 229, 2], [1, 13, 12, 5, 11, 6, 4, 2]),\n",
       " ([0, 0, 0, 262, 13, 369, 458, 7461, 1052, 2], [1, 10, 9, 9, 5, 6, 4, 2]),\n",
       " ([0, 0, 0, 55, 5, 17, 106, 5, 5497, 2], [1, 10, 9, 13, 10, 7, 4, 2]),\n",
       " ([0, 0, 0, 0, 5815, 7, 81, 215, 798, 2], [1, 8, 6, 4, 12, 9, 5, 2]),\n",
       " ([0, 0, 0, 3792, 149, 30, 6, 14, 2397, 2], [1, 10, 11, 5, 12, 13, 7, 2]),\n",
       " ([0, 0, 0, 55, 5, 17, 106, 5, 5282, 2], [1, 10, 9, 13, 9, 7, 4, 2]),\n",
       " ([0, 0, 0, 540, 4, 11, 536, 4, 310, 2], [1, 13, 12, 4, 5, 5, 4, 2]),\n",
       " ([0, 0, 0, 2383, 3420, 7, 3347, 4, 6387, 2], [1, 10, 6, 4, 9, 5, 5, 2]),\n",
       " ([0, 0, 0, 0, 1038, 2276, 7, 117, 83, 2], [1, 6, 7, 8, 12, 6, 10, 2]),\n",
       " ([4344, 279, 13, 3358, 526, 84, 3419, 6124, 1028, 2],\n",
       "  [1, 7, 12, 4, 11, 4, 4, 2]),\n",
       " ([0, 8183, 118, 183, 8, 2021, 9, 4, 310, 2], [1, 13, 9, 4, 8, 6, 6, 2]),\n",
       " ([0, 0, 0, 0, 3466, 7, 7379, 4, 56, 2], [1, 4, 10, 4, 10, 6, 4, 2]),\n",
       " ([0, 0, 3240, 4, 2815, 4, 14, 96, 72, 2], [1, 8, 7, 4, 8, 5, 5, 2]),\n",
       " ([0, 0, 0, 0, 1366, 1628, 7997, 4, 141, 2], [1, 10, 11, 5, 12, 13, 5, 2]),\n",
       " ([0, 0, 251, 7, 169, 5, 399, 1131, 29, 2], [1, 13, 6, 6, 10, 5, 4, 2]),\n",
       " ([0, 0, 0, 55, 5, 17, 567, 5, 3476, 2], [1, 7, 9, 4, 8, 7, 4, 2]),\n",
       " ([0, 0, 0, 0, 8172, 3577, 1185, 7, 173, 2], [1, 10, 11, 9, 4, 10, 5, 2]),\n",
       " ([2214, 833, 4, 19, 11, 1781, 35, 11, 338, 2], [1, 6, 13, 4, 5, 5, 6, 2]),\n",
       " ([0, 0, 0, 0, 6313, 240, 13, 4789, 168, 2], [1, 10, 13, 4, 9, 5, 4, 2]),\n",
       " ([0, 1901, 6635, 8, 432, 9, 8, 5361, 9, 2], [1, 6, 7, 4, 8, 8, 5, 2]),\n",
       " ([0, 0, 0, 0, 4155, 1981, 4, 647, 350, 2], [1, 7, 12, 4, 7, 6, 4, 2]),\n",
       " ([0, 0, 0, 0, 2871, 546, 961, 7, 558, 2], [1, 10, 11, 5, 9, 5, 4, 2]),\n",
       " ([0, 0, 0, 4098, 301, 7, 10, 1749, 40, 2], [1, 12, 8, 4, 7, 4, 4, 2]),\n",
       " ([0, 0, 6781, 13, 7663, 4218, 5, 59, 95, 2], [1, 9, 10, 6, 4, 11, 4, 2]),\n",
       " ([0, 0, 4804, 107, 4, 117, 76, 7, 260, 2], [1, 6, 7, 5, 10, 5, 5, 2]),\n",
       " ([0, 55, 7, 115, 5, 4037, 1524, 5, 3498, 2], [1, 7, 8, 4, 11, 7, 5, 2]),\n",
       " ([1437, 8, 1449, 180, 6, 9, 4, 56, 94, 2], [1, 4, 8, 4, 9, 5, 6, 2]),\n",
       " ([0, 0, 5216, 107, 4, 117, 76, 7, 260, 2], [1, 6, 7, 5, 12, 8, 5, 2]),\n",
       " ([0, 0, 0, 3017, 7, 3012, 4, 5, 459, 2], [1, 6, 10, 8, 5, 5, 4, 2]),\n",
       " ([0, 0, 0, 342, 23, 8179, 4, 3722, 2881, 2], [1, 8, 10, 6, 9, 13, 6, 2]),\n",
       " ([0, 0, 0, 0, 268, 220, 4, 30, 6, 2], [1, 4, 5, 4, 12, 7, 4, 2]),\n",
       " ([0, 0, 365, 414, 21, 697, 3533, 246, 414, 2], [1, 9, 11, 4, 5, 7, 4, 2]),\n",
       " ([0, 0, 0, 2453, 474, 37, 21, 5962, 37, 2], [1, 10, 9, 9, 13, 6, 4, 2]),\n",
       " ([0, 0, 0, 2959, 4, 310, 14, 131, 128, 2], [1, 13, 5, 5, 4, 5, 5, 2]),\n",
       " ([0, 55, 7, 115, 5, 17, 852, 5, 3540, 2], [1, 7, 4, 6, 10, 7, 4, 2]),\n",
       " ([2806, 8, 25, 6, 2921, 927, 9, 5, 182, 2], [1, 13, 9, 5, 11, 6, 5, 2]),\n",
       " ([0, 0, 0, 55, 5, 17, 37, 5, 4279, 2], [1, 10, 11, 4, 9, 7, 4, 2]),\n",
       " ([0, 0, 0, 739, 40, 30, 6, 14, 1783, 2], [1, 12, 7, 5, 9, 7, 4, 2]),\n",
       " ([0, 0, 0, 0, 6216, 8, 3198, 440, 9, 2], [1, 6, 7, 4, 11, 5, 8, 2]),\n",
       " ([0, 0, 0, 0, 2410, 4, 310, 21, 291, 2], [1, 10, 5, 5, 6, 5, 6, 2]),\n",
       " ([0, 0, 0, 0, 1053, 6205, 7, 31, 81, 2], [1, 8, 6, 4, 13, 8, 4, 2]),\n",
       " ([0, 5006, 289, 8, 12, 6, 5, 4659, 9, 2], [1, 10, 6, 4, 6, 7, 7, 2]),\n",
       " ([0, 8205, 4, 7302, 7, 6242, 10, 15, 5311, 2], [1, 6, 7, 4, 6, 5, 7, 2]),\n",
       " ([0, 1508, 3031, 4, 2720, 4, 14, 96, 72, 2], [1, 8, 7, 5, 6, 5, 5, 2]),\n",
       " ([0, 0, 0, 0, 249, 13, 369, 3953, 264, 2], [1, 10, 9, 11, 8, 6, 4, 2]),\n",
       " ([0, 0, 2204, 423, 8, 1137, 9, 4, 6019, 2], [1, 10, 9, 4, 5, 8, 4, 2]),\n",
       " ([0, 0, 0, 55, 5, 17, 149, 5, 3781, 2], [1, 10, 9, 10, 5, 7, 4, 2]),\n",
       " ([0, 513, 5, 1341, 118, 183, 8, 1217, 9, 2], [1, 13, 9, 4, 10, 6, 5, 2]),\n",
       " ([236, 4, 163, 7, 501, 295, 5, 344, 41, 2], [1, 13, 8, 4, 8, 4, 4, 2]),\n",
       " ([7545, 1637, 7, 37, 4, 19, 11, 487, 6, 2], [1, 7, 4, 5, 13, 5, 4, 2]),\n",
       " ([0, 5342, 14, 17, 6071, 8, 7718, 888, 9, 2], [1, 5, 4, 4, 12, 5, 4, 2]),\n",
       " ([3812, 13, 857, 637, 162, 4, 5, 41, 29, 2], [1, 13, 8, 5, 5, 4, 4, 2]),\n",
       " ([0, 0, 0, 7615, 4, 14, 519, 131, 128, 2], [1, 13, 6, 4, 6, 12, 4, 2]),\n",
       " ([0, 0, 0, 1070, 1951, 7, 40, 5, 1951, 2], [1, 7, 12, 4, 5, 5, 4, 2]),\n",
       " ([5254, 10, 15, 2518, 7239, 8, 194, 2434, 9, 2], [1, 6, 10, 9, 4, 6, 4, 2]),\n",
       " ([0, 3848, 3954, 13, 54, 88, 4, 30, 6, 2], [1, 8, 10, 5, 6, 6, 4, 2]),\n",
       " ([3221, 4, 25, 6, 4872, 4, 13, 505, 783, 2], [1, 7, 5, 5, 9, 5, 4, 2]),\n",
       " ([0, 186, 5, 1218, 4, 5, 119, 429, 119, 2], [1, 9, 6, 4, 8, 5, 4, 2]),\n",
       " ([754, 7, 5508, 13, 8086, 21, 2273, 8121, 2638, 2],\n",
       "  [1, 8, 10, 5, 8, 4, 4, 2]),\n",
       " ([0, 0, 0, 5929, 380, 4, 14, 96, 72, 2], [1, 8, 7, 4, 13, 8, 4, 2]),\n",
       " ([0, 0, 0, 1836, 317, 10, 15, 2041, 830, 2], [1, 6, 10, 6, 4, 7, 4, 2]),\n",
       " ([0, 0, 0, 7072, 13, 3584, 10, 625, 37, 2], [1, 10, 9, 6, 4, 7, 5, 2]),\n",
       " ([0, 0, 0, 2474, 7, 1587, 4, 56, 94, 2], [1, 4, 13, 4, 13, 4, 4, 2]),\n",
       " ([0, 0, 0, 7500, 2160, 3724, 7, 31, 70, 2], [1, 10, 11, 8, 5, 5, 4, 2]),\n",
       " ([0, 0, 2363, 3867, 4, 18, 509, 141, 160, 2], [1, 10, 11, 5, 4, 6, 4, 2]),\n",
       " ([0, 0, 7457, 523, 4, 25, 6, 6244, 523, 2], [1, 7, 12, 4, 8, 6, 5, 2]),\n",
       " ([0, 0, 0, 6901, 5, 437, 7, 829, 47, 2], [1, 5, 12, 4, 6, 9, 6, 2]),\n",
       " ([3827, 7, 10, 49, 1136, 22, 4, 777, 2511, 2], [1, 11, 8, 4, 8, 5, 4, 2]),\n",
       " ([0, 0, 0, 0, 262, 13, 5130, 174, 68, 2], [1, 7, 4, 8, 5, 5, 4, 2]),\n",
       " ([0, 0, 0, 0, 5791, 1026, 5, 247, 54, 2], [1, 9, 4, 5, 11, 5, 5, 2]),\n",
       " ([0, 0, 0, 6701, 5, 194, 182, 4, 310, 2], [1, 13, 9, 4, 8, 5, 8, 2]),\n",
       " ([7201, 215, 62, 237, 5, 2749, 215, 62, 54, 2], [1, 8, 11, 4, 12, 7, 5, 2]),\n",
       " ([0, 0, 4239, 897, 732, 4, 19, 11, 1141, 2], [1, 8, 9, 4, 6, 5, 8, 2]),\n",
       " ([0, 0, 0, 1366, 4, 11, 548, 4, 1858, 2], [1, 4, 7, 4, 5, 5, 6, 2]),\n",
       " ([0, 0, 3545, 8, 3474, 9, 700, 7, 227, 2], [1, 5, 6, 5, 9, 5, 4, 2]),\n",
       " ([763, 436, 360, 367, 83, 5, 1563, 7, 8224, 2], [1, 6, 7, 5, 9, 13, 4, 2]),\n",
       " ([0, 0, 7956, 4, 2407, 4680, 7, 67, 76, 2], [1, 6, 7, 6, 5, 5, 5, 2]),\n",
       " ([0, 0, 45, 27, 5, 6304, 5, 121, 22, 2], [1, 13, 4, 5, 7, 9, 4, 2]),\n",
       " ([2221, 5, 4334, 7, 67, 83, 21, 76, 47, 2], [1, 6, 7, 8, 7, 6, 4, 2]),\n",
       " ([0, 0, 0, 0, 2959, 4, 14, 893, 72, 2], [1, 13, 5, 5, 4, 5, 7, 2]),\n",
       " ([0, 0, 3437, 1317, 4, 162, 3040, 4, 8219, 2], [1, 7, 12, 5, 8, 5, 4, 2]),\n",
       " ([0, 7925, 4, 5408, 7, 4953, 7, 68, 332, 2], [1, 7, 12, 4, 12, 5, 4, 2]),\n",
       " ([3153, 558, 4, 25, 6, 5562, 558, 4, 1209, 2], [1, 10, 9, 5, 13, 6, 4, 2]),\n",
       " ([0, 0, 5977, 31, 2645, 4, 19, 11, 1048, 2], [1, 7, 11, 4, 12, 11, 7, 2]),\n",
       " ([0, 0, 7926, 8, 12, 6, 5, 459, 9, 2], [1, 6, 10, 8, 6, 6, 4, 2]),\n",
       " ([55, 7, 115, 5, 17, 232, 6, 5, 6762, 2], [1, 7, 4, 6, 7, 7, 4, 2]),\n",
       " ([913, 1374, 4, 5, 16, 52, 51, 13, 961, 2], [1, 10, 11, 9, 11, 5, 5, 2]),\n",
       " ([0, 0, 0, 0, 1038, 918, 7, 117, 83, 2], [1, 6, 7, 8, 12, 6, 13, 2]),\n",
       " ([0, 0, 0, 657, 103, 244, 4, 957, 946, 2], [1, 9, 13, 4, 6, 4, 4, 2]),\n",
       " ([0, 249, 13, 1228, 525, 157, 319, 248, 119, 2], [1, 10, 9, 11, 8, 5, 4, 2]),\n",
       " ([0, 0, 0, 6431, 53, 1980, 634, 911, 1009, 2], [1, 9, 7, 4, 8, 4, 4, 2]),\n",
       " ([6147, 833, 4, 19, 11, 1781, 35, 11, 338, 2], [1, 6, 13, 4, 5, 5, 5, 2]),\n",
       " ([0, 0, 0, 268, 437, 1104, 1112, 1234, 220, 2], [1, 4, 5, 4, 8, 5, 4, 2]),\n",
       " ([0, 0, 0, 0, 2533, 4, 19, 11, 389, 2], [1, 5, 6, 4, 9, 4, 4, 2]),\n",
       " ([6194, 8, 12, 6, 5, 4005, 7, 4004, 9, 2], [1, 6, 7, 8, 8, 13, 7, 2]),\n",
       " ([0, 0, 0, 2383, 3420, 7, 3347, 4, 3423, 2], [1, 10, 6, 4, 9, 5, 6, 2]),\n",
       " ([0, 0, 6362, 7, 117, 83, 21, 76, 47, 2], [1, 6, 7, 9, 5, 9, 4, 2]),\n",
       " ([8040, 54, 14, 96, 72, 14, 155, 57, 114, 2], [1, 9, 4, 4, 8, 4, 4, 2]),\n",
       " ([0, 0, 0, 7564, 2901, 106, 4, 11, 378, 2], [1, 10, 9, 8, 4, 12, 5, 2]),\n",
       " ([0, 1299, 7774, 516, 978, 4, 14, 96, 72, 2], [1, 8, 7, 4, 9, 8, 4, 2]),\n",
       " ([0, 0, 915, 328, 4, 275, 4, 56, 94, 2], [1, 4, 6, 4, 12, 10, 4, 2]),\n",
       " ([0, 0, 55, 5, 2115, 4, 10, 15, 289, 2], [1, 10, 6, 5, 6, 7, 4, 2]),\n",
       " ([0, 236, 7, 163, 5, 229, 4, 11, 536, 2], [1, 13, 12, 4, 10, 5, 4, 2]),\n",
       " ([7670, 8, 6276, 9, 7, 5234, 8, 7289, 9, 2], [1, 6, 10, 8, 11, 5, 4, 2]),\n",
       " ([2592, 5, 1601, 41, 4, 2084, 4, 41, 29, 2], [1, 13, 6, 4, 11, 5, 4, 2]),\n",
       " ([0, 0, 6490, 7, 67, 83, 21, 76, 47, 2], [1, 6, 7, 6, 9, 6, 5, 2]),\n",
       " ([0, 0, 7872, 1224, 4, 19, 11, 134, 46, 2], [1, 11, 7, 5, 5, 6, 4, 2]),\n",
       " ([75, 2939, 21, 3779, 4, 807, 24, 141, 160, 2], [1, 10, 9, 6, 11, 8, 5, 2]),\n",
       " ([0, 0, 0, 0, 1038, 4247, 7, 117, 83, 2], [1, 6, 7, 8, 12, 6, 12, 2]),\n",
       " ([0, 0, 0, 0, 2295, 243, 106, 4, 5016, 2], [1, 10, 9, 9, 8, 5, 5, 2]),\n",
       " ([0, 0, 0, 0, 1491, 7, 81, 215, 798, 2], [1, 8, 6, 4, 9, 5, 13, 2]),\n",
       " ([0, 0, 2893, 7, 173, 30, 6, 14, 1699, 2], [1, 10, 11, 9, 4, 10, 7, 2]),\n",
       " ([1574, 4, 1304, 7, 832, 4, 5, 418, 213, 2], [1, 13, 11, 4, 10, 5, 4, 2]),\n",
       " ([0, 268, 1339, 4, 25, 6, 2073, 7, 2432, 2], [1, 4, 5, 4, 12, 6, 4, 2]),\n",
       " ([7364, 4, 19, 11, 3123, 4, 18, 77, 404, 2], [1, 7, 12, 5, 6, 6, 4, 2]),\n",
       " ([0, 0, 0, 0, 186, 23, 3759, 1718, 7012, 2], [1, 12, 10, 5, 11, 7, 5, 2]),\n",
       " ([0, 0, 0, 0, 6544, 10, 15, 5, 5505, 2], [1, 8, 10, 6, 9, 12, 4, 2]),\n",
       " ([3743, 1608, 5, 38, 10, 15, 121, 4, 1808, 2], [1, 7, 4, 4, 5, 11, 4, 2]),\n",
       " ([0, 0, 5647, 4534, 7, 10, 6172, 141, 1993, 2], [1, 10, 11, 9, 9, 6, 4, 2]),\n",
       " ([0, 0, 1986, 529, 4, 19, 11, 1190, 350, 2], [1, 6, 11, 6, 8, 6, 5, 2]),\n",
       " ([0, 0, 0, 1031, 6051, 4, 14, 113, 57, 2], [1, 9, 10, 4, 12, 5, 4, 2]),\n",
       " ([1049, 7, 40, 47, 4, 30, 6, 14, 7484, 2], [1, 10, 5, 4, 6, 7, 7, 2]),\n",
       " ([0, 0, 0, 5645, 4, 14, 519, 131, 128, 2], [1, 13, 6, 4, 6, 13, 4, 2]),\n",
       " ([2808, 8, 622, 2988, 9, 4, 1152, 697, 246, 2], [1, 4, 7, 4, 9, 5, 5, 2]),\n",
       " ([0, 0, 3521, 862, 7, 700, 7, 82, 2036, 2], [1, 6, 5, 4, 8, 8, 4, 2]),\n",
       " ([0, 4987, 106, 8, 12, 6, 5, 4732, 9, 2], [1, 10, 9, 8, 8, 8, 4, 2]),\n",
       " ([6339, 213, 5, 118, 43, 4, 13, 141, 3297, 2], [1, 10, 8, 5, 5, 6, 4, 2]),\n",
       " ([0, 0, 1815, 4, 700, 7, 131, 5, 1371, 2], [1, 5, 5, 4, 11, 5, 4, 2]),\n",
       " ([0, 0, 3304, 3365, 4, 199, 1273, 669, 738, 2], [1, 10, 9, 10, 8, 6, 4, 2]),\n",
       " ([0, 0, 0, 3341, 7, 5189, 4, 56, 94, 2], [1, 4, 13, 4, 8, 5, 4, 2]),\n",
       " ([0, 0, 0, 0, 2828, 2048, 13, 607, 591, 2], [1, 10, 9, 5, 12, 5, 4, 2]),\n",
       " ([0, 0, 55, 5, 17, 1813, 2235, 5, 6997, 2], [1, 10, 9, 5, 5, 7, 5, 2]),\n",
       " ([0, 0, 0, 5362, 5, 283, 220, 4, 85, 2], [1, 4, 6, 4, 12, 6, 5, 2]),\n",
       " ([0, 166, 84, 73, 4, 60, 46, 13, 245, 2], [1, 11, 6, 4, 9, 6, 4, 2]),\n",
       " ([0, 0, 0, 249, 13, 1228, 65, 2524, 7124, 2], [1, 10, 9, 8, 12, 5, 4, 2]),\n",
       " ([3718, 4, 693, 7, 511, 4, 5, 4814, 1368, 2], [1, 6, 10, 5, 12, 9, 4, 2]),\n",
       " ([0, 0, 0, 0, 6973, 1071, 7, 31, 149, 2], [1, 10, 9, 6, 9, 6, 4, 2]),\n",
       " ([0, 1764, 852, 4, 25, 6, 2377, 852, 332, 2], [1, 7, 4, 6, 10, 5, 4, 2]),\n",
       " ([0, 0, 0, 2030, 772, 4, 19, 11, 389, 2], [1, 5, 6, 4, 5, 4, 4, 2]),\n",
       " ([0, 0, 1366, 4, 11, 548, 4, 11, 1858, 2], [1, 4, 7, 4, 5, 5, 5, 2]),\n",
       " ([0, 0, 0, 0, 8043, 8, 4742, 276, 9, 2], [1, 6, 7, 4, 8, 5, 6, 2]),\n",
       " ([0, 4834, 10, 15, 5262, 4, 14, 96, 72, 2], [1, 8, 7, 4, 9, 12, 7, 2]),\n",
       " ([0, 0, 6223, 8, 101, 9, 7, 117, 76, 2], [1, 6, 7, 6, 6, 9, 9, 2]),\n",
       " ([0, 0, 0, 0, 3329, 2695, 7, 67, 83, 2], [1, 6, 7, 8, 12, 6, 5, 2]),\n",
       " ([0, 0, 0, 6210, 4, 14, 519, 131, 128, 2], [1, 13, 6, 4, 6, 8, 4, 2]),\n",
       " ([0, 0, 0, 55, 5, 17, 106, 5, 3115, 2], [1, 10, 9, 11, 5, 7, 4, 2]),\n",
       " ([0, 0, 0, 7359, 3468, 270, 6, 13, 2042, 2], [1, 11, 4, 4, 5, 4, 4, 2]),\n",
       " ([7056, 232, 6, 7, 149, 30, 6, 14, 2126, 2], [1, 7, 4, 5, 10, 11, 4, 2]),\n",
       " ([0, 0, 0, 0, 6393, 8, 415, 1624, 9, 2], [1, 6, 7, 8, 6, 7, 11, 2]),\n",
       " ([3289, 7541, 6360, 255, 4, 67, 76, 7, 260, 2], [1, 6, 7, 5, 12, 5, 11, 2]),\n",
       " ([2693, 4, 3439, 4, 3047, 7, 31, 3086, 1222, 2], [1, 11, 13, 4, 6, 5, 4, 2]),\n",
       " ([0, 1738, 10, 15, 551, 1371, 4, 56, 94, 2], [1, 4, 13, 4, 5, 7, 4, 2]),\n",
       " ([0, 0, 0, 3205, 40, 5, 1085, 10, 307, 2], [1, 12, 10, 5, 11, 5, 4, 2]),\n",
       " ([0, 0, 8129, 442, 4, 30, 6, 14, 3213, 2], [1, 6, 7, 8, 5, 4, 4, 2]),\n",
       " ([0, 5865, 899, 7, 291, 7, 10, 1309, 81, 2], [1, 8, 9, 4, 11, 9, 4, 2]),\n",
       " ([153, 53, 136, 42, 368, 4, 36, 33, 6, 2], [1, 12, 5, 4, 8, 5, 4, 2]),\n",
       " ([0, 0, 0, 719, 3330, 37, 7, 1900, 1400, 2], [1, 10, 9, 6, 7, 9, 4, 2]),\n",
       " ([55, 5, 17, 936, 1313, 4919, 106, 5, 5559, 2], [1, 10, 9, 8, 6, 7, 4, 2]),\n",
       " ([0, 0, 0, 0, 6780, 4, 14, 96, 72, 2], [1, 8, 7, 4, 9, 12, 5, 2]),\n",
       " ([0, 0, 0, 0, 75, 40, 5, 433, 6, 2], [1, 13, 7, 4, 13, 4, 4, 2]),\n",
       " ([0, 5298, 4, 10, 15, 3236, 40, 5, 5517, 2], [1, 8, 12, 4, 11, 4, 4, 2]),\n",
       " ([0, 0, 4962, 7, 67, 83, 21, 76, 47, 2], [1, 6, 7, 9, 5, 6, 4, 2]),\n",
       " ([0, 0, 7837, 8, 12, 6, 5, 4495, 9, 2], [1, 6, 10, 8, 11, 8, 7, 2]),\n",
       " ([0, 0, 4105, 494, 6680, 7, 10, 494, 6804, 2], [1, 6, 10, 6, 10, 5, 4, 2]),\n",
       " ([0, 1155, 4766, 4, 11, 539, 387, 392, 6, 2], [1, 10, 9, 13, 7, 11, 4, 2]),\n",
       " ([0, 0, 0, 0, 7990, 107, 7, 117, 76, 2], [1, 6, 7, 5, 12, 5, 8, 2]),\n",
       " ([0, 0, 7478, 8, 2317, 9, 7, 1624, 47, 2], [1, 6, 7, 4, 5, 6, 8, 2]),\n",
       " ([0, 7842, 4, 6827, 1904, 7, 31, 4545, 219, 2], [1, 10, 6, 4, 5, 9, 4, 2]),\n",
       " ([1812, 7, 316, 328, 5, 1991, 4, 56, 94, 2], [1, 4, 6, 4, 13, 6, 12, 2]),\n",
       " ([1182, 131, 4, 23, 147, 150, 10, 202, 152, 2], [1, 5, 10, 4, 12, 5, 4, 2]),\n",
       " ([186, 5, 3590, 10, 15, 1218, 7, 301, 115, 2], [1, 9, 8, 4, 8, 7, 4, 2]),\n",
       " ([0, 0, 0, 0, 7076, 4, 6227, 7, 5633, 2], [1, 10, 9, 8, 6, 8, 4, 2]),\n",
       " ([0, 0, 0, 0, 6452, 8, 3791, 9, 1208, 2], [1, 6, 7, 5, 7, 5, 4, 2]),\n",
       " ([0, 0, 0, 0, 7538, 4, 5127, 7, 6838, 2], [1, 6, 11, 4, 10, 11, 4, 2]),\n",
       " ([0, 0, 0, 6813, 4, 6095, 7, 17, 87, 2], [1, 8, 9, 4, 12, 4, 4, 2]),\n",
       " ([0, 0, 0, 55, 5, 17, 318, 5, 2860, 2], [1, 10, 11, 9, 5, 7, 4, 2]),\n",
       " ([0, 0, 0, 0, 3261, 10, 15, 5, 229, 2], [1, 6, 10, 6, 12, 5, 7, 2]),\n",
       " ([0, 0, 0, 0, 75, 40, 5, 121, 6, 2], [1, 13, 4, 6, 4, 4, 4, 2]),\n",
       " ([0, 6624, 182, 21, 182, 6331, 13, 2766, 2124, 2], [1, 13, 9, 4, 6, 4, 4, 2]),\n",
       " ([0, 7494, 4, 6202, 8, 189, 586, 2117, 9, 2], [1, 6, 11, 8, 4, 6, 4, 2]),\n",
       " ([0, 55, 5, 3067, 1721, 470, 5, 41, 29, 2], [1, 13, 8, 5, 11, 5, 7, 2]),\n",
       " ([0, 0, 0, 2214, 156, 4132, 7, 861, 1148, 2], [1, 6, 13, 5, 9, 5, 4, 2]),\n",
       " ([0, 631, 1340, 8, 2378, 1203, 9, 4, 305, 2], [1, 6, 10, 5, 11, 5, 5, 2]),\n",
       " ([0, 0, 0, 0, 268, 2841, 4, 30, 6, 2], [1, 4, 5, 4, 12, 5, 7, 2]),\n",
       " ([186, 5, 189, 414, 10, 15, 1839, 7, 1823, 2], [1, 9, 11, 4, 8, 7, 4, 2]),\n",
       " ([0, 0, 5592, 13, 766, 4, 19, 11, 1484, 2], [1, 10, 6, 5, 5, 7, 9, 2]),\n",
       " ([186, 5, 1218, 7, 301, 115, 4, 5, 3590, 2], [1, 9, 8, 4, 8, 5, 4, 2]),\n",
       " ([0, 0, 0, 1017, 5, 4141, 21, 5257, 5847, 2], [1, 4, 7, 4, 7, 11, 4, 2]),\n",
       " ([0, 3240, 10, 15, 2815, 4, 14, 96, 72, 2], [1, 8, 7, 4, 8, 5, 7, 2]),\n",
       " ([0, 0, 0, 0, 4456, 4, 14, 96, 72, 2], [1, 8, 7, 4, 7, 11, 4, 2]),\n",
       " ([0, 0, 0, 1678, 173, 30, 6, 14, 1699, 2], [1, 10, 11, 9, 4, 12, 4, 2]),\n",
       " ([0, 0, 4673, 7, 2473, 2243, 5, 41, 29, 2], [1, 13, 8, 4, 10, 6, 4, 2]),\n",
       " ([0, 0, 1965, 7, 68, 47, 4, 5, 182, 2], [1, 13, 9, 5, 7, 5, 4, 2]),\n",
       " ([4777, 2407, 6451, 255, 4, 67, 76, 7, 260, 2], [1, 6, 7, 5, 11, 9, 4, 2]),\n",
       " ([0, 0, 0, 306, 586, 608, 8, 3759, 9, 2], [1, 6, 11, 5, 7, 5, 4, 2]),\n",
       " ([0, 0, 0, 0, 1418, 4, 310, 21, 291, 2], [1, 10, 5, 5, 6, 6, 5, 2]),\n",
       " ([880, 8, 517, 2286, 9, 4, 14, 96, 72, 2], [1, 8, 7, 4, 13, 12, 4, 2]),\n",
       " ([0, 0, 0, 4869, 2483, 2568, 272, 7, 211, 2], [1, 6, 12, 5, 11, 7, 4, 2]),\n",
       " ([0, 55, 5, 17, 106, 7, 149, 5, 2397, 2], [1, 10, 11, 5, 12, 7, 4, 2]),\n",
       " ([0, 1606, 240, 91, 5571, 752, 1252, 228, 6, 2], [1, 10, 9, 5, 10, 7, 5, 2]),\n",
       " ([0, 0, 0, 0, 2825, 2596, 931, 5, 2577, 2], [1, 5, 5, 4, 9, 5, 6, 2]),\n",
       " ([3823, 600, 5, 69, 5, 97, 1542, 65, 58, 2], [1, 11, 5, 4, 9, 4, 4, 2]),\n",
       " ([0, 0, 7580, 1080, 1562, 4, 5, 415, 532, 2], [1, 4, 9, 4, 12, 6, 4, 2]),\n",
       " ([0, 0, 186, 5, 229, 30, 6, 14, 7729, 2], [1, 13, 12, 5, 12, 7, 7, 2]),\n",
       " ([0, 0, 0, 819, 161, 7, 165, 4, 85, 2], [1, 4, 8, 4, 8, 10, 4, 2]),\n",
       " ([0, 0, 2863, 1657, 8, 12, 6, 1704, 9, 2], [1, 6, 13, 4, 6, 6, 4, 2]),\n",
       " ([0, 0, 268, 5179, 8, 2393, 180, 6, 9, 2], [1, 4, 8, 4, 5, 7, 6, 2]),\n",
       " ([0, 0, 2074, 2033, 8, 12, 6, 116, 9, 2], [1, 8, 11, 4, 6, 5, 7, 2]),\n",
       " ([0, 0, 0, 251, 7, 169, 5, 1755, 29, 2], [1, 13, 6, 6, 10, 6, 4, 2]),\n",
       " ([0, 0, 236, 7, 163, 4, 5, 418, 183, 2], [1, 13, 11, 4, 13, 5, 6, 2]),\n",
       " ([0, 0, 8083, 8, 5454, 9, 7, 117, 76, 2], [1, 6, 7, 4, 13, 5, 5, 2]),\n",
       " ([5726, 4, 2301, 11, 4, 25, 6, 67, 629, 2], [1, 4, 12, 4, 6, 9, 4, 2]),\n",
       " ([0, 0, 0, 915, 328, 4, 275, 4, 85, 2], [1, 4, 6, 4, 12, 7, 4, 2]),\n",
       " ([0, 0, 0, 0, 2785, 10, 15, 36, 33, 2], [1, 12, 8, 4, 9, 5, 7, 2]),\n",
       " ([0, 0, 365, 7, 167, 5, 6736, 41, 29, 2], [1, 13, 6, 4, 9, 8, 4, 2]),\n",
       " ([0, 0, 0, 0, 7482, 4, 3566, 7, 3719, 2], [1, 6, 7, 8, 6, 6, 5, 2]),\n",
       " ([0, 0, 0, 0, 3705, 505, 4, 185, 226, 2], [1, 7, 5, 4, 11, 5, 5, 2]),\n",
       " ([75, 1012, 1820, 37, 4, 30, 6, 14, 3069, 2], [1, 10, 9, 13, 4, 7, 4, 2]),\n",
       " ([0, 0, 0, 0, 6441, 7, 2230, 232, 6, 2], [1, 7, 4, 6, 13, 6, 4, 2]),\n",
       " ([791, 368, 4, 36, 33, 4, 5, 63, 22, 2], [1, 12, 5, 5, 6, 5, 6, 2]),\n",
       " ([0, 0, 7688, 4, 19, 11, 200, 91, 250, 2], [1, 11, 7, 4, 9, 5, 4, 2]),\n",
       " ([0, 0, 1881, 8, 1426, 9, 105, 7, 167, 2], [1, 10, 5, 4, 5, 7, 13, 2]),\n",
       " ([0, 0, 6947, 4, 713, 7, 227, 5, 1371, 2], [1, 5, 5, 4, 11, 6, 4, 2]),\n",
       " ([0, 1525, 70, 13, 1558, 2776, 199, 813, 70, 2],\n",
       "  [1, 10, 11, 6, 11, 12, 4, 2]),\n",
       " ([0, 0, 0, 0, 5221, 3274, 5, 247, 54, 2], [1, 9, 4, 5, 9, 5, 4, 2]),\n",
       " ([2339, 1063, 30, 6, 14, 7783, 21, 5605, 7223, 2],\n",
       "  [1, 10, 12, 4, 6, 7, 4, 2]),\n",
       " ([0, 6404, 6924, 556, 4, 19, 11, 185, 546, 2], [1, 10, 9, 5, 7, 11, 4, 2]),\n",
       " ([763, 436, 360, 367, 83, 5, 48, 5, 5256, 2], [1, 6, 7, 5, 8, 4, 4, 2]),\n",
       " ([0, 6733, 106, 10, 15, 1324, 2354, 7, 2106, 2], [1, 10, 9, 8, 12, 6, 7, 2]),\n",
       " ([0, 0, 2923, 1216, 10, 15, 5, 118, 43, 2], [1, 13, 5, 5, 13, 7, 4, 2]),\n",
       " ([0, 0, 0, 0, 5474, 4, 4832, 7, 3627, 2], [1, 9, 7, 5, 5, 7, 5, 2]),\n",
       " ([0, 0, 0, 4543, 444, 4, 19, 11, 389, 2], [1, 5, 6, 4, 13, 9, 4, 2]),\n",
       " ([8225, 5, 16, 52, 51, 14, 752, 228, 6, 2], [1, 10, 9, 5, 9, 8, 4, 2]),\n",
       " ([0, 0, 0, 0, 4274, 7, 7026, 4, 56, 2], [1, 4, 10, 4, 7, 9, 4, 2]),\n",
       " ([0, 1182, 772, 4, 256, 389, 4, 777, 548, 2], [1, 5, 10, 4, 5, 4, 4, 2]),\n",
       " ([0, 0, 0, 0, 880, 8, 7369, 107, 9, 2], [1, 8, 7, 4, 13, 13, 4, 2]),\n",
       " ([0, 7009, 8, 3736, 107, 9, 7, 117, 76, 2], [1, 6, 7, 8, 8, 11, 6, 2]),\n",
       " ([0, 0, 0, 0, 45, 27, 5, 2975, 373, 2], [1, 11, 4, 4, 13, 5, 4, 2]),\n",
       " ([1909, 4, 2411, 7, 31, 81, 13, 264, 119, 2], [1, 8, 9, 4, 11, 5, 4, 2]),\n",
       " ([0, 0, 0, 0, 763, 83, 5, 7078, 632, 2], [1, 6, 7, 8, 13, 6, 6, 2]),\n",
       " ([0, 0, 7286, 7, 117, 260, 21, 76, 47, 2], [1, 6, 7, 6, 6, 9, 5, 2]),\n",
       " ([0, 3471, 1022, 391, 62, 309, 7, 4287, 1485, 2], [1, 10, 9, 6, 12, 5, 6, 2]),\n",
       " ([4400, 303, 6, 8, 12, 6, 5, 6755, 9, 2], [1, 6, 7, 6, 12, 7, 4, 2]),\n",
       " ([0, 0, 0, 1046, 853, 5, 437, 4, 85, 2], [1, 4, 6, 4, 8, 6, 5, 2]),\n",
       " ([0, 0, 0, 1183, 7, 260, 5, 5938, 107, 2], [1, 6, 7, 5, 10, 5, 11, 2]),\n",
       " ([0, 0, 3230, 7128, 1888, 4, 5, 118, 43, 2], [1, 10, 8, 4, 10, 6, 4, 2]),\n",
       " ([0, 0, 0, 2337, 444, 4, 19, 11, 389, 2], [1, 5, 6, 4, 12, 4, 4, 2]),\n",
       " ([0, 0, 1257, 641, 7, 96, 729, 4, 6232, 2], [1, 10, 11, 4, 12, 12, 4, 2]),\n",
       " ([257, 8, 12, 6, 733, 9, 2327, 7, 2347, 2], [1, 7, 4, 4, 10, 9, 4, 2]),\n",
       " ([0, 0, 0, 0, 6996, 3746, 7, 4667, 1247, 2], [1, 10, 13, 5, 12, 8, 5, 2]),\n",
       " ([0, 0, 0, 0, 502, 14, 169, 4, 531, 2], [1, 13, 4, 4, 6, 6, 4, 2]),\n",
       " ([0, 0, 4425, 7, 326, 30, 6, 14, 924, 2], [1, 10, 9, 5, 6, 10, 4, 2]),\n",
       " ([0, 0, 2233, 7, 1406, 4, 5, 799, 788, 2], [1, 12, 7, 5, 5, 5, 4, 2]),\n",
       " ([0, 1812, 7, 316, 328, 5, 1991, 4, 85, 2], [1, 4, 6, 4, 13, 6, 13, 2]),\n",
       " ([0, 2340, 1036, 107, 1641, 1075, 156, 4, 267, 2], [1, 5, 11, 5, 9, 5, 5, 2]),\n",
       " ([0, 2433, 5, 41, 10, 15, 344, 41, 29, 2], [1, 13, 8, 6, 9, 6, 7, 2]),\n",
       " ([2123, 59, 7, 95, 4, 200, 91, 376, 250, 2], [1, 9, 10, 6, 8, 6, 4, 2]),\n",
       " ([0, 0, 0, 0, 1316, 8, 565, 9, 862, 2], [1, 5, 5, 4, 6, 6, 4, 2]),\n",
       " ([0, 0, 7320, 8, 12, 6, 1711, 7992, 9, 2], [1, 4, 8, 4, 13, 12, 4, 2]),\n",
       " ([342, 7, 81, 23, 7451, 8, 3791, 9, 1208, 2], [1, 8, 10, 6, 9, 10, 8, 2]),\n",
       " ([0, 0, 268, 283, 220, 1104, 1112, 1234, 220, 2], [1, 4, 5, 4, 6, 5, 4, 2]),\n",
       " ([0, 0, 6597, 4, 5034, 7, 3259, 4, 7986, 2], [1, 6, 11, 8, 4, 5, 4, 2]),\n",
       " ([0, 4193, 10, 15, 7399, 8, 3198, 440, 9, 2], [1, 6, 7, 4, 11, 5, 9, 2]),\n",
       " ([0, 0, 921, 37, 5, 17, 492, 6, 234, 2], [1, 10, 9, 11, 6, 5, 4, 2]),\n",
       " ([0, 0, 0, 1183, 7, 260, 5, 7311, 107, 2], [1, 6, 7, 5, 10, 5, 8, 2]),\n",
       " ([2151, 4, 3250, 4, 531, 411, 274, 2098, 2255, 2], [1, 13, 5, 4, 6, 8, 5, 2]),\n",
       " ([0, 0, 0, 7932, 4, 7186, 7, 31, 219, 2], [1, 10, 6, 4, 8, 5, 4, 2]),\n",
       " ([0, 0, 0, 2157, 1016, 327, 13, 2206, 2380, 2], [1, 9, 9, 5, 10, 13, 5, 2]),\n",
       " ([5743, 1592, 4028, 1435, 4, 19, 11, 1229, 2376, 2],\n",
       "  [1, 5, 4, 4, 12, 8, 4, 2]),\n",
       " ([0, 0, 0, 4866, 2162, 40, 5, 59, 244, 2], [1, 9, 10, 6, 8, 13, 4, 2]),\n",
       " ([0, 0, 0, 1661, 276, 8, 6634, 107, 9, 2], [1, 6, 10, 4, 12, 5, 4, 2]),\n",
       " ([0, 0, 0, 7703, 221, 8, 3623, 544, 9, 2], [1, 6, 10, 9, 11, 5, 4, 2]),\n",
       " ([0, 0, 6168, 343, 4, 19, 11, 1482, 6, 2], [1, 6, 11, 5, 8, 5, 4, 2]),\n",
       " ([0, 1330, 48, 5, 16, 52, 51, 164, 3001, 2], [1, 8, 6, 4, 12, 11, 4, 2]),\n",
       " ([0, 75, 37, 7, 70, 4, 30, 14, 2398, 2], [1, 10, 11, 5, 11, 10, 4, 2]),\n",
       " ([0, 0, 0, 0, 2157, 1016, 327, 4, 3572, 2], [1, 9, 9, 5, 10, 13, 6, 2]),\n",
       " ([2447, 13, 936, 48, 4, 19, 11, 185, 546, 2], [1, 10, 9, 5, 7, 8, 5, 2]),\n",
       " ([0, 0, 0, 0, 7922, 4, 14, 96, 72, 2], [1, 8, 7, 4, 6, 5, 4, 2]),\n",
       " ([0, 0, 0, 0, 7753, 4, 19, 11, 5646, 2], [1, 7, 11, 4, 13, 6, 4, 2]),\n",
       " ([0, 0, 0, 0, 4255, 4, 5, 59, 95, 2], [1, 9, 10, 5, 13, 5, 4, 2]),\n",
       " ([0, 540, 544, 8, 12, 6, 102, 2322, 9, 2], [1, 6, 10, 5, 10, 6, 4, 2]),\n",
       " ([0, 0, 268, 1787, 4, 79, 11, 20, 1516, 2], [1, 4, 5, 4, 11, 5, 6, 2]),\n",
       " ([0, 7060, 2403, 4, 449, 14, 17, 1896, 6184, 2], [1, 10, 11, 5, 10, 6, 6, 2]),\n",
       " ([0, 0, 0, 4317, 992, 7, 81, 215, 798, 2], [1, 8, 6, 4, 9, 5, 12, 2]),\n",
       " ([0, 2728, 4, 13, 16, 374, 11, 20, 5580, 2], [1, 10, 11, 8, 12, 9, 5, 2]),\n",
       " ([0, 0, 0, 0, 4067, 4, 7456, 7, 4018, 2], [1, 6, 7, 4, 8, 12, 5, 2]),\n",
       " ([0, 0, 0, 0, 1038, 6062, 7, 117, 83, 2], [1, 6, 7, 8, 12, 6, 11, 2]),\n",
       " ([0, 0, 0, 0, 5031, 8, 517, 544, 9, 2], [1, 6, 7, 5, 4, 5, 4, 2]),\n",
       " ([0, 0, 4566, 8, 12, 6, 5, 7526, 9, 2], [1, 4, 9, 4, 12, 7, 4, 2]),\n",
       " ([0, 0, 3573, 57, 4, 11, 23, 297, 6, 2], [1, 12, 10, 5, 5, 10, 5, 2]),\n",
       " ([0, 358, 33, 27, 4, 30, 6, 14, 584, 2], [1, 12, 4, 4, 12, 7, 4, 2]),\n",
       " ([0, 0, 0, 0, 4222, 7, 1933, 5, 586, 2], [1, 6, 10, 5, 12, 5, 4, 2]),\n",
       " ([0, 0, 819, 161, 7, 165, 4, 56, 94, 2], [1, 4, 8, 4, 6, 13, 4, 2]),\n",
       " ([0, 0, 0, 3854, 173, 30, 6, 14, 1699, 2], [1, 10, 11, 9, 4, 13, 7, 2]),\n",
       " ([0, 1155, 1171, 4, 531, 411, 274, 2098, 2255, 2], [1, 13, 5, 4, 6, 6, 5, 2]),\n",
       " ([0, 1575, 317, 7, 693, 21, 1312, 2143, 317, 2], [1, 6, 10, 6, 6, 4, 4, 2]),\n",
       " ([0, 0, 0, 0, 6773, 107, 7, 117, 76, 2], [1, 6, 7, 5, 13, 8, 12, 2]),\n",
       " ([0, 0, 814, 312, 769, 23, 2070, 7, 1245, 2], [1, 8, 5, 4, 11, 11, 5, 2]),\n",
       " ([0, 0, 0, 0, 1038, 6063, 7, 117, 83, 2], [1, 6, 7, 8, 12, 6, 6, 2]),\n",
       " ([0, 0, 0, 0, 5925, 3062, 556, 5, 121, 2], [1, 13, 4, 4, 10, 4, 4, 2]),\n",
       " ([55, 5, 17, 106, 70, 228, 6, 5, 6676, 2], [1, 10, 9, 9, 6, 9, 4, 2]),\n",
       " ([2692, 1267, 613, 7, 169, 5, 331, 112, 29, 2], [1, 13, 6, 6, 10, 10, 4, 2]),\n",
       " ([0, 0, 0, 7227, 106, 10, 15, 4981, 3186, 2], [1, 10, 9, 8, 8, 11, 6, 2]),\n",
       " ([0, 1257, 641, 7, 96, 729, 4, 2041, 830, 2], [1, 10, 11, 4, 12, 5, 4, 2]),\n",
       " ([0, 0, 3792, 6115, 70, 10, 15, 58, 1452, 2], [1, 10, 11, 5, 12, 8, 6, 2]),\n",
       " ([0, 0, 0, 0, 882, 677, 13, 157, 43, 2], [1, 10, 9, 12, 6, 7, 5, 2]),\n",
       " ([3473, 4, 1811, 7, 3717, 4, 5, 63, 22, 2], [1, 12, 8, 4, 12, 5, 6, 2]),\n",
       " ([0, 7161, 118, 183, 8, 1217, 9, 4, 310, 2], [1, 13, 9, 4, 8, 6, 5, 2]),\n",
       " ([0, 6714, 3097, 406, 4, 60, 46, 13, 245, 2], [1, 6, 8, 4, 7, 5, 4, 2]),\n",
       " ([0, 428, 7321, 8, 12, 6, 7811, 291, 9, 2], [1, 8, 12, 4, 6, 4, 4, 2]),\n",
       " ([0, 0, 5121, 636, 1577, 13, 230, 235, 223, 2], [1, 10, 9, 6, 5, 8, 5, 2]),\n",
       " ([0, 55, 5, 106, 13, 369, 1043, 59, 95, 2], [1, 10, 9, 8, 7, 7, 7, 2]),\n",
       " ([0, 0, 0, 365, 7, 167, 5, 344, 41, 2], [1, 13, 6, 4, 9, 5, 4, 2]),\n",
       " ([0, 6537, 1332, 4, 25, 6, 487, 6, 1332, 2], [1, 7, 6, 4, 5, 6, 4, 2]),\n",
       " ([5397, 7, 3609, 13, 16, 374, 11, 20, 592, 2], [1, 10, 11, 8, 12, 12, 7, 2]),\n",
       " ([0, 0, 0, 6891, 2674, 37, 13, 157, 43, 2], [1, 10, 9, 11, 13, 8, 4, 2]),\n",
       " ([0, 0, 2854, 4, 13, 16, 374, 20, 592, 2], [1, 10, 11, 8, 11, 5, 4, 2]),\n",
       " ([0, 1257, 641, 7, 96, 729, 4, 469, 544, 2], [1, 10, 11, 4, 12, 9, 4, 2]),\n",
       " ([0, 6110, 709, 8, 12, 6, 5, 4370, 9, 2], [1, 10, 7, 4, 5, 8, 4, 2]),\n",
       " ([0, 8214, 8, 5286, 9, 4614, 8, 5528, 9, 2], [1, 6, 7, 4, 11, 9, 5, 2]),\n",
       " ([1056, 40, 5, 1750, 344, 41, 4, 30, 6, 2], [1, 13, 8, 6, 11, 5, 4, 2]),\n",
       " ([268, 2614, 2529, 2650, 2090, 1104, 1112, 1234, 220, 2],\n",
       "  [1, 4, 5, 4, 5, 5, 4, 2]),\n",
       " ([0, 0, 0, 2474, 7, 1587, 4, 940, 124, 2], [1, 4, 13, 5, 5, 9, 4, 2]),\n",
       " ([0, 0, 4989, 8, 12, 6, 1736, 1665, 9, 2], [1, 7, 4, 5, 8, 6, 4, 2]),\n",
       " ([0, 0, 0, 0, 6599, 7, 31, 3681, 8228, 2], [1, 7, 13, 4, 5, 7, 4, 2]),\n",
       " ([0, 0, 5099, 8, 12, 6, 5, 4790, 9, 2], [1, 5, 5, 4, 10, 5, 7, 2]),\n",
       " ([45, 27, 5, 241, 64, 22, 4, 30, 6, 2], [1, 11, 11, 5, 11, 5, 7, 2]),\n",
       " ([0, 630, 586, 8, 12, 6, 5, 5688, 9, 2], [1, 10, 5, 4, 9, 5, 7, 2]),\n",
       " ([0, 0, 0, 1439, 7, 496, 5, 3530, 772, 2], [1, 5, 6, 4, 10, 5, 4, 2]),\n",
       " ([0, 0, 0, 0, 1609, 1199, 485, 4, 7122, 2], [1, 10, 11, 9, 6, 8, 8, 2]),\n",
       " ([0, 1053, 852, 4, 25, 6, 2377, 852, 332, 2], [1, 7, 4, 6, 10, 6, 4, 2]),\n",
       " ([0, 0, 0, 55, 5, 17, 37, 5, 7432, 2], [1, 10, 9, 13, 11, 7, 4, 2]),\n",
       " ([0, 0, 7915, 4, 117, 83, 7, 976, 1179, 2], [1, 6, 7, 8, 13, 5, 5, 2]),\n",
       " ([0, 915, 48, 5, 65, 1619, 4, 30, 6, 2], [1, 4, 9, 5, 4, 4, 4, 2]),\n",
       " ([0, 0, 0, 0, 3997, 8, 432, 9, 516, 2], [1, 6, 7, 5, 11, 8, 12, 2]),\n",
       " ([0, 0, 0, 0, 7346, 5926, 7, 5258, 6237, 2], [1, 7, 12, 4, 10, 7, 5, 2]),\n",
       " ([0, 1316, 8, 565, 9, 4, 10, 15, 551, 2], [1, 5, 4, 4, 11, 7, 4, 2]),\n",
       " ([0, 0, 0, 6915, 322, 27, 4, 36, 33, 2], [1, 12, 4, 4, 5, 5, 4, 2]),\n",
       " ([0, 428, 124, 81, 5, 2309, 5, 138, 65, 2], [1, 5, 12, 4, 6, 6, 4, 2]),\n",
       " ([0, 0, 1257, 641, 7, 96, 729, 4, 5255, 2], [1, 10, 11, 4, 12, 11, 4, 2]),\n",
       " ([0, 0, 0, 0, 4422, 317, 7, 3096, 830, 2], [1, 6, 10, 6, 11, 12, 4, 2]),\n",
       " ([1779, 1207, 106, 7, 70, 13, 2585, 1207, 221, 2], [1, 10, 9, 6, 5, 6, 5, 2]),\n",
       " ([0, 1590, 81, 5, 82, 124, 120, 120, 328, 2], [1, 5, 12, 4, 6, 5, 4, 2]),\n",
       " ([0, 0, 0, 0, 3205, 298, 7, 858, 188, 2], [1, 7, 9, 4, 11, 11, 4, 2]),\n",
       " ([0, 0, 0, 0, 8067, 2144, 7, 68, 47, 2], [1, 10, 13, 5, 11, 4, 4, 2]),\n",
       " ([0, 0, 0, 4362, 4, 10, 15, 189, 1148, 2], [1, 6, 11, 4, 12, 5, 4, 2]),\n",
       " ([0, 0, 0, 0, 6848, 4, 14, 96, 72, 2], [1, 8, 7, 4, 11, 7, 5, 2]),\n",
       " ([0, 4637, 1260, 7, 1260, 7604, 381, 57, 4807, 2],\n",
       "  [1, 6, 11, 6, 11, 5, 4, 2]),\n",
       " ([0, 1070, 1664, 7, 40, 5, 1664, 338, 1664, 2], [1, 12, 10, 4, 8, 4, 4, 2]),\n",
       " ([1409, 4, 275, 4, 36, 33, 4, 5, 26, 2], [1, 12, 5, 5, 9, 6, 4, 2]),\n",
       " ([0, 5476, 6148, 3102, 7, 3985, 6688, 1578, 3102, 2],\n",
       "  [1, 6, 12, 6, 4, 6, 5, 2]),\n",
       " ([0, 0, 2154, 700, 5, 1084, 8, 565, 9, 2], [1, 5, 5, 4, 8, 5, 8, 2]),\n",
       " ([0, 3392, 5, 108, 1520, 28, 11, 20, 2552, 2], [1, 10, 10, 4, 6, 5, 5, 2]),\n",
       " ([0, 3933, 42, 1281, 42, 2245, 7, 289, 332, 2], [1, 10, 9, 10, 13, 5, 4, 2]),\n",
       " ([0, 6665, 7, 7681, 4, 14, 519, 131, 128, 2], [1, 13, 6, 4, 6, 10, 4, 2]),\n",
       " ([1691, 473, 1091, 230, 235, 222, 223, 13, 651, 2],\n",
       "  [1, 10, 9, 4, 13, 5, 4, 2]),\n",
       " ([0, 0, 0, 1316, 8, 565, 9, 4, 551, 2], [1, 5, 4, 4, 11, 5, 4, 2]),\n",
       " ([0, 0, 0, 4902, 5, 69, 97, 65, 58, 2], [1, 11, 5, 4, 8, 5, 4, 2]),\n",
       " ([0, 0, 1464, 725, 37, 7, 10, 6247, 37, 2], [1, 10, 9, 13, 13, 9, 4, 2]),\n",
       " ([0, 0, 0, 3308, 380, 4, 14, 96, 72, 2], [1, 8, 7, 4, 7, 6, 4, 2]),\n",
       " ([0, 0, 0, 4857, 4, 18, 509, 141, 160, 2], [1, 10, 11, 5, 4, 5, 4, 2]),\n",
       " ([0, 0, 186, 5, 41, 29, 4, 30, 6, 2], [1, 13, 8, 6, 12, 7, 4, 2]),\n",
       " ([0, 1564, 8, 1541, 1507, 9, 4, 85, 146, 2], [1, 4, 8, 4, 9, 6, 5, 2]),\n",
       " ([0, 0, 0, 7233, 1839, 4, 5, 118, 43, 2], [1, 10, 8, 4, 7, 5, 4, 2]),\n",
       " ([0, 0, 0, 55, 5, 17, 1945, 5, 1572, 2], [1, 7, 9, 4, 5, 7, 4, 2]),\n",
       " ([0, 0, 5100, 8, 101, 9, 7, 117, 76, 2], [1, 6, 7, 8, 7, 9, 6, 2]),\n",
       " ([0, 0, 3940, 81, 215, 62, 468, 303, 6, 2], [1, 8, 10, 5, 5, 5, 5, 2]),\n",
       " ([0, 0, 0, 0, 1356, 152, 4, 30, 6, 2], [1, 9, 7, 5, 5, 7, 7, 2]),\n",
       " ([4104, 1904, 7, 2334, 1673, 4, 5, 41, 29, 2], [1, 13, 8, 5, 10, 5, 8, 2]),\n",
       " ([841, 18, 426, 5, 49, 38, 4, 30, 6, 2], [1, 12, 9, 4, 11, 6, 4, 2]),\n",
       " ([0, 0, 0, 0, 4960, 4, 14, 96, 72, 2], [1, 8, 7, 4, 6, 6, 4, 2]),\n",
       " ([0, 0, 7004, 73, 7, 1378, 4, 49, 190, 2], [1, 11, 12, 4, 9, 5, 4, 2]),\n",
       " ([0, 0, 6694, 8, 2664, 795, 4, 4440, 9, 2], [1, 6, 7, 4, 7, 9, 5, 2]),\n",
       " ([0, 55, 7, 115, 5, 2144, 13, 2618, 443, 2], [1, 10, 13, 5, 9, 6, 4, 2]),\n",
       " ([0, 0, 0, 0, 1901, 795, 8, 3772, 9, 2], [1, 6, 7, 4, 11, 8, 5, 2]),\n",
       " ([0, 0, 5832, 107, 4, 117, 76, 7, 260, 2], [1, 6, 7, 5, 10, 6, 6, 2]),\n",
       " ([0, 0, 0, 1182, 866, 4, 1592, 694, 1913, 2], [1, 5, 10, 4, 8, 6, 4, 2]),\n",
       " ([0, 0, 6330, 107, 4, 117, 76, 7, 260, 2], [1, 6, 7, 5, 13, 5, 5, 2]),\n",
       " ([0, 0, 2435, 8, 2351, 9, 156, 4, 267, 2], [1, 5, 11, 5, 8, 5, 5, 2]),\n",
       " ([0, 0, 0, 6916, 996, 4, 1717, 7, 1029, 2], [1, 10, 11, 4, 11, 6, 4, 2]),\n",
       " ([0, 0, 0, 2797, 610, 188, 5, 137, 29, 2], [1, 13, 8, 4, 13, 6, 8, 2]),\n",
       " ([0, 0, 7761, 8, 101, 9, 7, 117, 76, 2], [1, 6, 7, 8, 7, 11, 5, 2]),\n",
       " ([0, 0, 55, 5, 17, 233, 618, 5, 1856, 2], [1, 10, 11, 8, 8, 7, 4, 2]),\n",
       " ([2874, 317, 7, 276, 693, 10, 15, 5, 182, 2], [1, 6, 10, 6, 13, 9, 7, 2]),\n",
       " ([0, 0, 3734, 4, 25, 6, 3818, 4, 56, 2], [1, 4, 10, 4, 7, 8, 4, 2]),\n",
       " ([0, 342, 23, 7382, 8, 854, 3166, 9, 4079, 2], [1, 8, 10, 6, 9, 13, 13, 2]),\n",
       " ([0, 0, 5326, 8, 101, 9, 7, 117, 76, 2], [1, 6, 7, 8, 7, 12, 5, 2]),\n",
       " ([0, 0, 321, 4, 14, 2050, 2140, 4, 951, 2], [1, 9, 9, 4, 5, 6, 5, 2]),\n",
       " ([0, 5836, 37, 8, 12, 6, 5, 7711, 9, 2], [1, 10, 9, 13, 4, 8, 4, 2]),\n",
       " ([0, 0, 0, 5457, 282, 4, 5480, 7, 6539, 2], [1, 5, 8, 4, 6, 6, 4, 2]),\n",
       " ([0, 0, 6985, 897, 732, 4, 19, 11, 1141, 2], [1, 8, 9, 4, 6, 5, 6, 2]),\n",
       " ([0, 2874, 317, 7, 276, 693, 4, 5, 182, 2], [1, 6, 10, 6, 13, 9, 5, 2]),\n",
       " ([0, 0, 8171, 8, 4145, 9, 7, 117, 83, 2], [1, 6, 7, 8, 8, 5, 5, 2]),\n",
       " ([0, 0, 0, 55, 5, 17, 106, 5, 5587, 2], [1, 10, 9, 8, 11, 7, 4, 2]),\n",
       " ([1821, 21, 10, 40, 5, 514, 4, 5, 26, 2], [1, 11, 12, 4, 5, 6, 5, 2]),\n",
       " ([0, 55, 5, 17, 223, 7, 326, 5, 5963, 2], [1, 10, 9, 5, 6, 7, 4, 2]),\n",
       " ([0, 0, 0, 4023, 7, 3683, 4, 56, 94, 2], [1, 4, 13, 4, 12, 5, 4, 2]),\n",
       " ([0, 3551, 10, 15, 1706, 3165, 6181, 1100, 885, 2],\n",
       "  [1, 7, 11, 4, 12, 12, 7, 2]),\n",
       " ([0, 0, 0, 236, 7, 163, 5, 229, 183, 2], [1, 13, 12, 4, 10, 6, 4, 2]),\n",
       " ([0, 0, 0, 0, 7251, 457, 4, 5, 783, 2], [1, 7, 5, 5, 4, 5, 7, 2]),\n",
       " ([0, 1530, 1547, 7, 68, 47, 4, 5, 182, 2], [1, 13, 9, 5, 10, 6, 4, 2]),\n",
       " ([0, 0, 0, 0, 5147, 470, 5, 41, 29, 2], [1, 13, 8, 5, 11, 10, 5, 2]),\n",
       " ([0, 0, 0, 0, 7931, 4, 14, 96, 72, 2], [1, 8, 7, 5, 4, 4, 4, 2]),\n",
       " ([0, 0, 0, 0, 3450, 107, 7, 117, 76, 2], [1, 6, 7, 5, 12, 5, 5, 2]),\n",
       " ([0, 0, 3230, 43, 903, 7, 903, 13, 8005, 2], [1, 7, 4, 5, 10, 8, 6, 2]),\n",
       " ([6306, 13, 466, 22, 4, 466, 420, 2219, 490, 2],\n",
       "  [1, 10, 11, 8, 12, 13, 4, 2]),\n",
       " ([3257, 13, 7220, 5338, 7919, 6641, 5, 41, 29, 2],\n",
       "  [1, 13, 8, 4, 10, 9, 4, 2]),\n",
       " ([0, 0, 6171, 7, 3119, 4, 5, 41, 29, 2], [1, 13, 8, 5, 10, 6, 9, 2]),\n",
       " ([0, 0, 0, 7916, 318, 30, 6, 14, 2860, 2], [1, 10, 11, 9, 5, 11, 4, 2]),\n",
       " ([0, 273, 8194, 818, 221, 1506, 7, 7775, 1506, 2],\n",
       "  [1, 10, 11, 5, 12, 5, 4, 2]),\n",
       " ([5166, 4, 903, 7, 6894, 51, 14, 1440, 6467, 2], [1, 10, 9, 9, 10, 11, 5, 2]),\n",
       " ([0, 0, 0, 55, 5, 17, 37, 5, 5280, 2], [1, 10, 9, 13, 12, 7, 4, 2]),\n",
       " ([0, 0, 0, 0, 5296, 4, 3872, 7, 3862, 2], [1, 7, 4, 5, 13, 8, 4, 2]),\n",
       " ([0, 0, 0, 0, 851, 5, 597, 1077, 6, 2], [1, 7, 9, 4, 5, 11, 5, 2]),\n",
       " ([0, 789, 23, 133, 43, 133, 43, 303, 6, 2], [1, 13, 5, 5, 6, 8, 4, 2]),\n",
       " ([6790, 119, 7, 1763, 187, 119, 21, 2888, 119, 2], [1, 9, 5, 5, 9, 6, 4, 2]),\n",
       " ([0, 5101, 43, 1223, 104, 904, 18, 2706, 1391, 2], [1, 8, 10, 6, 9, 8, 4, 2]),\n",
       " ([0, 0, 0, 55, 5, 17, 106, 5, 7493, 2], [1, 10, 9, 9, 5, 7, 4, 2]),\n",
       " ([0, 0, 0, 1670, 106, 30, 6, 14, 1623, 2], [1, 10, 9, 6, 12, 7, 7, 2]),\n",
       " ([0, 0, 0, 0, 1316, 8, 565, 9, 1061, 2], [1, 5, 5, 4, 10, 5, 6, 2]),\n",
       " ([0, 0, 0, 571, 3532, 8, 5478, 178, 9, 2], [1, 6, 13, 5, 12, 4, 4, 2]),\n",
       " ([0, 1470, 391, 13, 5875, 3627, 876, 31, 6927, 2], [1, 9, 9, 5, 9, 4, 4, 2]),\n",
       " ([0, 0, 1351, 50, 4, 390, 6, 545, 6, 2], [1, 11, 8, 4, 12, 6, 4, 2]),\n",
       " ([0, 4140, 4, 5211, 7, 7967, 4, 56, 116, 2], [1, 4, 10, 4, 9, 11, 4, 2]),\n",
       " ([0, 0, 0, 0, 3767, 4758, 575, 1486, 2670, 2], [1, 10, 7, 4, 11, 6, 4, 2]),\n",
       " ([0, 55, 5, 17, 106, 7, 70, 5, 7328, 2], [1, 10, 9, 12, 10, 7, 4, 2]),\n",
       " ([251, 4, 169, 7, 295, 4, 5, 194, 182, 2], [1, 13, 9, 4, 13, 5, 4, 2]),\n",
       " ([0, 8015, 4, 13, 16, 374, 11, 20, 592, 2], [1, 10, 11, 8, 12, 12, 5, 2]),\n",
       " ([0, 2688, 4, 5, 16, 2962, 11, 20, 7325, 2], [1, 10, 9, 5, 5, 5, 5, 2]),\n",
       " ([0, 0, 2039, 8, 12, 6, 5, 5582, 9, 2], [1, 6, 10, 8, 11, 6, 7, 2]),\n",
       " ([0, 0, 0, 0, 4121, 107, 7, 117, 76, 2], [1, 6, 7, 5, 10, 6, 5, 2]),\n",
       " ([3806, 4, 267, 21, 3484, 1189, 7, 3484, 2840, 2], [1, 5, 11, 6, 4, 4, 4, 2]),\n",
       " ([6864, 669, 738, 8, 12, 6, 5, 7449, 9, 2], [1, 10, 9, 10, 6, 11, 4, 2]),\n",
       " ([5593, 8, 256, 284, 4, 7555, 7, 5485, 9, 2], [1, 4, 7, 4, 13, 4, 4, 2]),\n",
       " ([55, 7, 115, 5, 17, 37, 5, 178, 3733, 2], [1, 10, 9, 13, 8, 9, 4, 2]),\n",
       " ([0, 979, 5, 17, 622, 1408, 4, 940, 124, 2], [1, 4, 13, 5, 5, 11, 5, 2]),\n",
       " ([0, 0, 0, 0, 6212, 4, 10, 15, 3162, 2], [1, 4, 10, 4, 5, 5, 7, 2]),\n",
       " ([0, 0, 0, 0, 1182, 866, 4, 11, 1913, 2], [1, 5, 10, 4, 8, 5, 4, 2]),\n",
       " ([1354, 284, 4, 30, 6, 14, 278, 6, 6800, 2], [1, 4, 10, 5, 4, 7, 4, 2]),\n",
       " ([0, 1502, 8081, 7, 10, 6384, 1000, 7, 8193, 2], [1, 7, 12, 4, 10, 6, 4, 2]),\n",
       " ([0, 0, 0, 2436, 7, 1728, 4, 82, 124, 2], [1, 5, 12, 4, 11, 6, 4, 2]),\n",
       " ([0, 0, 0, 1545, 7, 155, 5, 8078, 148, 2], [1, 7, 4, 4, 5, 6, 4, 2]),\n",
       " ([0, 0, 55, 5, 17, 233, 846, 5, 3354, 2], [1, 10, 11, 8, 6, 7, 4, 2]),\n",
       " ([0, 0, 265, 5, 724, 4, 56, 94, 85, 2], [1, 4, 6, 4, 9, 11, 4, 2]),\n",
       " ([0, 0, 0, 0, 3172, 4, 267, 337, 416, 2], [1, 6, 11, 5, 12, 5, 5, 2]),\n",
       " ([0, 0, 0, 8139, 8, 5935, 180, 6, 9, 2], [1, 4, 10, 4, 6, 9, 4, 2]),\n",
       " ([0, 0, 0, 0, 7577, 4607, 4, 5, 103, 2], [1, 9, 9, 6, 5, 5, 4, 2]),\n",
       " ([0, 7022, 7, 5021, 1020, 82, 111, 122, 1177, 2], [1, 5, 12, 4, 9, 8, 4, 2]),\n",
       " ([0, 0, 0, 0, 186, 5, 189, 7693, 1210, 2], [1, 13, 5, 5, 12, 5, 4, 2]),\n",
       " ([0, 2433, 5, 344, 41, 4, 19, 11, 1475, 2], [1, 13, 8, 6, 9, 6, 5, 2])]"
      ]
     },
     "execution_count": 37,
     "metadata": {},
     "output_type": "execute_result"
    }
   ],
   "source": [
    "bucketed_data = bucket_data(encoder_inputs,decoder_inputs)\n",
    "batch(bucketed_data,1,500)"
   ]
  },
  {
   "cell_type": "code",
   "execution_count": null,
   "metadata": {
    "collapsed": true
   },
   "outputs": [],
   "source": []
  }
 ],
 "metadata": {
  "anaconda-cloud": {},
  "kernelspec": {
   "display_name": "Python 2",
   "language": "python",
   "name": "python2"
  },
  "language_info": {
   "codemirror_mode": {
    "name": "ipython",
    "version": 2
   },
   "file_extension": ".py",
   "mimetype": "text/x-python",
   "name": "python",
   "nbconvert_exporter": "python",
   "pygments_lexer": "ipython2",
   "version": "2.7.10"
  }
 },
 "nbformat": 4,
 "nbformat_minor": 1
}
